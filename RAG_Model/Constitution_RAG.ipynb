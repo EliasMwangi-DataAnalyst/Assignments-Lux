{
  "nbformat": 4,
  "nbformat_minor": 0,
  "metadata": {
    "colab": {
      "provenance": []
    },
    "kernelspec": {
      "name": "python3",
      "display_name": "Python 3"
    },
    "language_info": {
      "name": "python"
    }
  },
  "cells": [
    {
      "cell_type": "code",
      "source": [
        "# %pip install langchain-groq langchain-community pypdf chromadb"
      ],
      "metadata": {
        "id": "VfqXUJi3lpKy"
      },
      "execution_count": 42,
      "outputs": []
    },
    {
      "cell_type": "code",
      "execution_count": 43,
      "metadata": {
        "id": "h_SkBtXQjIZ_"
      },
      "outputs": [],
      "source": [
        "import pypdf\n",
        "from sentence_transformers import SentenceTransformer\n",
        "from langchain.retrievers import ParentDocumentRetriever\n",
        "from langchain_community.document_loaders import PyPDFLoader\n",
        "from langchain.text_splitter import RecursiveCharacterTextSplitter\n",
        "from langchain.vectorstores import Chroma\n",
        "from langchain.prompts import PromptTemplate\n",
        "from langchain.chains import RetrievalQA\n",
        "from langchain.storage import InMemoryStore\n",
        "from langchain_groq import ChatGroq\n",
        "import gradio as gr"
      ]
    },
    {
      "cell_type": "code",
      "source": [
        "doc_path=\"/content/The_Constitution_of_Kenya_2010.pdf\" # set the file path of PDF\n",
        "loader = PyPDFLoader(doc_path) # opens PDF and extract each page\n",
        "docs= loader.load() #loads and splits PDF into list of document objects\n",
        "print(len(docs)) # number of document objects created"
      ],
      "metadata": {
        "colab": {
          "base_uri": "https://localhost:8080/"
        },
        "id": "WxXvYNiHlhjF",
        "outputId": "4a287d46-d0d6-4821-9403-897d81a6f5fd"
      },
      "execution_count": 44,
      "outputs": [
        {
          "output_type": "stream",
          "name": "stdout",
          "text": [
            "193\n"
          ]
        }
      ]
    },
    {
      "cell_type": "code",
      "source": [
        "# Intializing parent and text splitters\n",
        "\n",
        "# create big sections for retrieval and coarse context\n",
        "parent_splitter = RecursiveCharacterTextSplitter(\n",
        "    chunk_size=1500,\n",
        "    chunk_overlap=100\n",
        ")\n",
        "\n",
        "# break the sections smaller pieces for detailed processing like mebedding\n",
        "child_splitter=RecursiveCharacterTextSplitter(\n",
        "    chunk_size=700,\n",
        "    chunk_overlap=50\n",
        ")"
      ],
      "metadata": {
        "id": "a33scTgqoAdv"
      },
      "execution_count": 45,
      "outputs": []
    },
    {
      "cell_type": "code",
      "source": [
        "# intializing embedding model\n",
        "\n",
        "# load BGE model from Hugging Face\n",
        "bge_model= SentenceTransformer(\"BAAI/bge-base-en-v1.5\")\n",
        "class BGEEmbeddings:\n",
        "  def embed_documents(self, text): #create vector database\n",
        "    return bge_model.encode(text, batch_size=8, normalize_embeddings=True).tolist()\n",
        "  def embed_query(self, query): #search user query against stored document vectors\n",
        "    return bge_model.encode([query], normalize_embeddings=True).tolist()[0]"
      ],
      "metadata": {
        "id": "FHVAGqelplzU"
      },
      "execution_count": 51,
      "outputs": []
    },
    {
      "cell_type": "code",
      "source": [
        "# creating the vector store\n",
        "\n",
        "constitution_vector_store=Chroma(\n",
        "    collection_name=\"Kenya_Constitution\", #creates collection in chroma that groups text vectors\n",
        "    embedding_function=BGEEmbeddings(), # custom embedding model toconvert text to vectors\n",
        "    persist_directory=\"./chroma\" # directory on disk to save database\n",
        ")"
      ],
      "metadata": {
        "id": "12lAHS2SsmjC"
      },
      "execution_count": 52,
      "outputs": []
    },
    {
      "cell_type": "code",
      "source": [
        "# creating in-memory stroe\n",
        "\n",
        "store=InMemoryStore()"
      ],
      "metadata": {
        "id": "L7YbpOR2vjeW"
      },
      "execution_count": 53,
      "outputs": []
    },
    {
      "cell_type": "code",
      "source": [
        "# Creating retrievers\n",
        "\n",
        "retriever = ParentDocumentRetriever(\n",
        "    vectorstore = constitution_vector_store,# store child chunks with embeddings\n",
        "    docstore=store, # store retrievable full parent documents\n",
        "    child_splitter=child_splitter, # define small chunks split\n",
        "    parent_splitter=parent_splitter # define big chunks split\n",
        ")"
      ],
      "metadata": {
        "id": "WtLwvO18wHWq"
      },
      "execution_count": 54,
      "outputs": []
    },
    {
      "cell_type": "code",
      "source": [
        "# adding documents into vector store\n",
        "\n",
        "retriever.add_documents(docs)"
      ],
      "metadata": {
        "id": "rXphkuy4xuLb"
      },
      "execution_count": 55,
      "outputs": []
    },
    {
      "cell_type": "code",
      "source": [
        "#  get secret key\n",
        "from google.colab import userdata\n",
        "userdata.get('alice_in_wonderland')"
      ],
      "metadata": {
        "colab": {
          "base_uri": "https://localhost:8080/",
          "height": 35
        },
        "id": "eXbocCh7x8rW",
        "outputId": "3205ca2d-2371-4502-a0d0-3626973f1bff"
      },
      "execution_count": 56,
      "outputs": [
        {
          "output_type": "execute_result",
          "data": {
            "text/plain": [
              "'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'"
            ],
            "application/vnd.google.colaboratory.intrinsic+json": {
              "type": "string"
            }
          },
          "metadata": {},
          "execution_count": 56
        }
      ]
    },
    {
      "cell_type": "code",
      "source": [
        "# create a child retriever\n",
        "child_retriever=constitution_vector_store.as_retriever()"
      ],
      "metadata": {
        "id": "mGwic8Rtzive"
      },
      "execution_count": 57,
      "outputs": []
    },
    {
      "cell_type": "code",
      "source": [
        "# initializing the LLM\n",
        "\n",
        "llm=ChatGroq(\n",
        "    groq_api_key=userdata.get('alice_in_wonderland'),\n",
        "    model_name= \"llama-3.3-70b-versatile\",\n",
        "    temperature=0.7\n",
        ")"
      ],
      "metadata": {
        "id": "G9a4WhMb0Dem"
      },
      "execution_count": 58,
      "outputs": []
    },
    {
      "cell_type": "code",
      "source": [
        "# creating the template\n",
        "template=\"\"\"\n",
        "Please answer the following questions from the context given according to the context given.\n",
        "\n",
        "If the question is out of context, just say the question is out of context kindly give me another question.\n",
        "\n",
        "Dont try to make up an answer\n",
        "\n",
        "{context}\n",
        "\n",
        "Question: {question}\n",
        "\"\"\""
      ],
      "metadata": {
        "id": "3e-9LC4Z0eZG"
      },
      "execution_count": 59,
      "outputs": []
    },
    {
      "cell_type": "code",
      "source": [
        "# creating the chain\n",
        "qa_chain=PromptTemplate(template=template,\n",
        "                         input_variables=[\"context\", \"question\"])"
      ],
      "metadata": {
        "id": "bAmh1s5l0nvf"
      },
      "execution_count": 60,
      "outputs": []
    },
    {
      "cell_type": "code",
      "source": [
        "chain= RetrievalQA.from_chain_type(\n",
        "    llm=llm,\n",
        "    retriever=retriever,\n",
        "    chain_type_kwargs={\"prompt\":qa_chain},\n",
        "    return_source_documents=True\n",
        ")"
      ],
      "metadata": {
        "id": "-8nBNMbZ03hV"
      },
      "execution_count": 61,
      "outputs": []
    },
    {
      "cell_type": "code",
      "source": [
        "question=\"What are the three branches of government created by the Constitution of Kenya?\"\n",
        "\n",
        "answer= chain({\"query\":question})\n",
        "print(answer[\"result\"])"
      ],
      "metadata": {
        "colab": {
          "base_uri": "https://localhost:8080/"
        },
        "id": "hFUsMeO4DVPg",
        "outputId": "2ff9b207-2bdb-4518-9b19-b85b42e93ce1"
      },
      "execution_count": 64,
      "outputs": [
        {
          "output_type": "stream",
          "name": "stderr",
          "text": [
            "/tmp/ipython-input-2312670390.py:3: LangChainDeprecationWarning: The method `Chain.__call__` was deprecated in langchain 0.1.0 and will be removed in 1.0. Use :meth:`~invoke` instead.\n",
            "  answer= chain({\"query\":question})\n"
          ]
        },
        {
          "output_type": "stream",
          "name": "stdout",
          "text": [
            "The three branches of government created by the Constitution of Kenya are:\n",
            "\n",
            "1. The Legislative (Parliament and the legislative assemblies in the county governments)\n",
            "2. The Executive (the national executive and the executive structures in the county governments)\n",
            "3. The Judiciary (the Judiciary and independent tribunals)\n",
            "\n",
            "These are mentioned in Article 1, Section 3 of the Constitution, which states that sovereign power is delegated to these State organs.\n"
          ]
        }
      ]
    },
    {
      "cell_type": "code",
      "source": [
        "response = llm.predict(\"Write a short poem about constituion of kenya.\")\n",
        "print(response)"
      ],
      "metadata": {
        "colab": {
          "base_uri": "https://localhost:8080/"
        },
        "id": "pY5dLk3G1XKq",
        "outputId": "bc6aa85c-330f-41ab-927f-444a37a6d20f"
      },
      "execution_count": 62,
      "outputs": [
        {
          "output_type": "stream",
          "name": "stdout",
          "text": [
            "In Kenya's heart, a document stands tall,\n",
            "The Constitution, a guiding light for all.\n",
            "Adopted in 2010, a new dawn did rise,\n",
            "With principles of justice, equality in its eyes.\n",
            "\n",
            "It safeguards rights, of every single soul,\n",
            "Freedom of speech, and expression, made whole.\n",
            "The Bill of Rights, a cornerstone so strong,\n",
            "Protects the weak, and keeps the powerful in check, all day long.\n",
            "\n",
            "Devolution's promise, of power to the ground,\n",
            "Empowering counties, with resources unbound.\n",
            "The three arms of government, in balance so fine,\n",
            "The Legislature, Executive, and Judiciary, in harmony divine.\n",
            "\n",
            "This Constitution, a foundation so grand,\n",
            "A blueprint for progress, in this eastern land.\n",
            "May it guide Kenya, towards a brighter day,\n",
            "Where all citizens thrive, in a just and equal way.\n"
          ]
        }
      ]
    },
    {
      "cell_type": "code",
      "source": [
        "# use gradio as user interface for chatbot\n",
        "\n",
        "def qa_bot(message, history):\n",
        "  result=chain({\"query\":message})\n",
        "  answer=result[\"result\"]\n",
        "  return answer\n",
        "\n",
        "demo=gr.ChatInterface(\n",
        "    fn=qa_bot,\n",
        "    title=\"Constitutiion Of Kenya [RAG]\",\n",
        "    description= \"Ask question Based on context. Out-of-context questions will not be answered.\",\n",
        "    examples= [\n",
        "        \"What are the three branches of government created by the Constitution of Kenya?\",\n",
        "        \"Can the constitution of Kenya be altered? If so, how?\",\n",
        "        \"(Out of context Question) :Is it constitutionally wrong to eat ice cream for breakfast?\"\n",
        "    ]\n",
        ")\n",
        "\n",
        "demo.launch(share=True) # gives a public link"
      ],
      "metadata": {
        "colab": {
          "base_uri": "https://localhost:8080/",
          "height": 645
        },
        "id": "3XDZKu723Xik",
        "outputId": "bac93a39-8bce-478f-d946-e654c893f923"
      },
      "execution_count": 65,
      "outputs": [
        {
          "output_type": "stream",
          "name": "stderr",
          "text": [
            "/usr/local/lib/python3.12/dist-packages/gradio/chat_interface.py:345: UserWarning: The 'tuples' format for chatbot messages is deprecated and will be removed in a future version of Gradio. Please set type='messages' instead, which uses openai-style 'role' and 'content' keys.\n",
            "  self.chatbot = Chatbot(\n"
          ]
        },
        {
          "output_type": "stream",
          "name": "stdout",
          "text": [
            "Colab notebook detected. To show errors in colab notebook, set debug=True in launch()\n",
            "* Running on public URL: https://255704ed6b3f7a1c4a.gradio.live\n",
            "\n",
            "This share link expires in 1 week. For free permanent hosting and GPU upgrades, run `gradio deploy` from the terminal in the working directory to deploy to Hugging Face Spaces (https://huggingface.co/spaces)\n"
          ]
        },
        {
          "output_type": "display_data",
          "data": {
            "text/plain": [
              "<IPython.core.display.HTML object>"
            ],
            "text/html": [
              "<div><iframe src=\"https://255704ed6b3f7a1c4a.gradio.live\" width=\"100%\" height=\"500\" allow=\"autoplay; camera; microphone; clipboard-read; clipboard-write;\" frameborder=\"0\" allowfullscreen></iframe></div>"
            ]
          },
          "metadata": {}
        },
        {
          "output_type": "execute_result",
          "data": {
            "text/plain": []
          },
          "metadata": {},
          "execution_count": 65
        }
      ]
    },
    {
      "cell_type": "code",
      "source": [],
      "metadata": {
        "id": "QyxOfBCh5lUu"
      },
      "execution_count": 63,
      "outputs": []
    }
  ]
}