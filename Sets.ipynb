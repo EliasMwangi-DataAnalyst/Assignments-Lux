{
 "cells": [
  {
   "cell_type": "markdown",
   "id": "aca580bc-1258-4290-86fa-e72369beee96",
   "metadata": {},
   "source": [
    "## Exploring Set Operations Using a Venn Diagram"
   ]
  },
  {
   "cell_type": "raw",
   "id": "8f203a8d-4c77-44da-b1a2-cd2780a1ff13",
   "metadata": {},
   "source": [
    "consider the following sets:\n",
    "\n",
    "Ω = positive integers between [1, 12]\n",
    "A = even numbers between [1, 10]\n",
    "B= 3,8,11,12\n",
    "C= 2,3,6,8,9,11"
   ]
  },
  {
   "cell_type": "code",
   "execution_count": 61,
   "id": "44ce97d2-ad6a-4996-89ff-e010e6a4c848",
   "metadata": {
    "tags": []
   },
   "outputs": [
    {
     "data": {
      "text/plain": [
       "{8}"
      ]
     },
     "execution_count": 61,
     "metadata": {},
     "output_type": "execute_result"
    }
   ],
   "source": [
    "# intersection of A and B\n",
    "ans1= {8}\n",
    "ans1"
   ]
  },
  {
   "cell_type": "code",
   "execution_count": 62,
   "id": "9bfbaebf-dd22-4577-97c1-ed35c9095993",
   "metadata": {
    "tags": []
   },
   "outputs": [
    {
     "data": {
      "text/plain": [
       "{2, 3, 4, 6, 8, 9, 11}"
      ]
     },
     "execution_count": 62,
     "metadata": {},
     "output_type": "execute_result"
    }
   ],
   "source": [
    "# in set A,C, intersection or both\n",
    "\n",
    "ans2 = {2,4,3,6,8,9,11}\n",
    "ans2"
   ]
  },
  {
   "cell_type": "code",
   "execution_count": 63,
   "id": "9aa7e243-911e-4270-bef5-3256dc43dd97",
   "metadata": {
    "tags": []
   },
   "outputs": [
    {
     "data": {
      "text/plain": [
       "{1, 3, 5, 7, 9, 10, 11, 12}"
      ]
     },
     "execution_count": 63,
     "metadata": {},
     "output_type": "execute_result"
    }
   ],
   "source": [
    "# values in universal set\n",
    "\n",
    "ans3= {1,3,11,12,9,10,7,5}\n",
    "ans3"
   ]
  },
  {
   "cell_type": "code",
   "execution_count": 64,
   "id": "d46a99bc-75c0-4b09-8230-7f5fb74cb055",
   "metadata": {
    "tags": []
   },
   "outputs": [
    {
     "data": {
      "text/plain": [
       "{1, 2, 4, 5, 6, 7, 9, 10}"
      ]
     },
     "execution_count": 64,
     "metadata": {},
     "output_type": "execute_result"
    }
   ],
   "source": [
    "# The absolute complement of B\n",
    "ans4 = {1,5,7,10,4,2,6,9}\n",
    "ans4"
   ]
  },
  {
   "cell_type": "code",
   "execution_count": 65,
   "id": "2e62bdcd-8222-4cab-89f2-56a8165de78f",
   "metadata": {
    "tags": []
   },
   "outputs": [
    {
     "data": {
      "text/plain": [
       "{1, 5, 7, 9, 10}"
      ]
     },
     "execution_count": 65,
     "metadata": {},
     "output_type": "execute_result"
    }
   ],
   "source": [
    "# compliment of union of set A and B\n",
    "\n",
    "ans5 = {1,9,10,7,5}\n",
    "ans5"
   ]
  },
  {
   "cell_type": "code",
   "execution_count": 66,
   "id": "1e54dc70-891f-4730-abef-3274de72bae1",
   "metadata": {
    "tags": []
   },
   "outputs": [
    {
     "data": {
      "text/plain": [
       "{12}"
      ]
     },
     "execution_count": 66,
     "metadata": {},
     "output_type": "execute_result"
    }
   ],
   "source": [
    "# elemtns in set B but not C\n",
    "\n",
    "ans6 = {12}\n",
    "ans6"
   ]
  },
  {
   "cell_type": "code",
   "execution_count": 67,
   "id": "c0495fc8-06b6-48f8-be96-164b991a1dea",
   "metadata": {
    "tags": []
   },
   "outputs": [
    {
     "data": {
      "text/plain": [
       "{2, 4, 6}"
      ]
     },
     "execution_count": 67,
     "metadata": {},
     "output_type": "execute_result"
    }
   ],
   "source": [
    "# A \\setminus B set in A but not in B\n",
    "ans7 = {4,2,6}\n",
    "ans7"
   ]
  },
  {
   "cell_type": "code",
   "execution_count": 68,
   "id": "cd408993-50d6-4584-99d5-782afdbd8808",
   "metadata": {
    "tags": []
   },
   "outputs": [
    {
     "data": {
      "text/plain": [
       "{2, 6, 8, 9}"
      ]
     },
     "execution_count": 68,
     "metadata": {},
     "output_type": "execute_result"
    }
   ],
   "source": [
    "# c\\(b\\a) elements in C,not in Bbut in A\n",
    "ans8= {9,2,8,6}\n",
    "ans8"
   ]
  },
  {
   "cell_type": "code",
   "execution_count": 69,
   "id": "6df955cb-52fa-4422-bdea-259c8c8d552f",
   "metadata": {
    "tags": []
   },
   "outputs": [
    {
     "data": {
      "text/plain": [
       "{2, 6, 8, 9}"
      ]
     },
     "execution_count": 69,
     "metadata": {},
     "output_type": "execute_result"
    }
   ],
   "source": [
    "# elements in both C and A: (C∩A)∪ (C∖B)\n",
    "ans9 = {8,2,6,9}\n",
    "ans9"
   ]
  },
  {
   "cell_type": "code",
   "execution_count": null,
   "id": "02be05be-de26-4bba-8f23-049cddee1632",
   "metadata": {},
   "outputs": [],
   "source": []
  },
  {
   "cell_type": "code",
   "execution_count": 70,
   "id": "5554a598-b410-47b8-9c8d-04db514e6fb2",
   "metadata": {
    "tags": []
   },
   "outputs": [],
   "source": [
    "U = {1,2,3,4,5,6,7,8,9,10,11,12}\n",
    "A = {2,4,6,8,10}\n",
    "B= {3,8,11,12}\n",
    "C = {2,3,6,8,9,11}"
   ]
  },
  {
   "cell_type": "code",
   "execution_count": 71,
   "id": "6644b03a-79e5-4930-bcc1-05eb3afe6319",
   "metadata": {
    "tags": []
   },
   "outputs": [
    {
     "data": {
      "text/plain": [
       "True"
      ]
     },
     "execution_count": 71,
     "metadata": {},
     "output_type": "execute_result"
    }
   ],
   "source": [
    "A_intersection_b = A & B\n",
    "A_intersection_b == ans1"
   ]
  },
  {
   "cell_type": "code",
   "execution_count": 72,
   "id": "7b304a0d-8347-4ded-ac8f-c0e998f9c64d",
   "metadata": {
    "tags": []
   },
   "outputs": [
    {
     "data": {
      "text/plain": [
       "False"
      ]
     },
     "execution_count": 72,
     "metadata": {},
     "output_type": "execute_result"
    }
   ],
   "source": [
    "A_cup_C= A | C\n",
    "A_cup_C\n",
    "A_cup_C == ans2"
   ]
  },
  {
   "cell_type": "code",
   "execution_count": 73,
   "id": "5503bd5e-7716-45c9-a0ec-f50267bb7645",
   "metadata": {
    "tags": []
   },
   "outputs": [
    {
     "data": {
      "text/plain": [
       "False"
      ]
     },
     "execution_count": 73,
     "metadata": {},
     "output_type": "execute_result"
    }
   ],
   "source": [
    "A_compliment = U - A\n",
    "A_compliment\n",
    "A_compliment == ans3"
   ]
  },
  {
   "cell_type": "code",
   "execution_count": 74,
   "id": "82e4eace-defe-4104-89a0-ea70983d55c3",
   "metadata": {
    "tags": []
   },
   "outputs": [
    {
     "data": {
      "text/plain": [
       "True"
      ]
     },
     "execution_count": 74,
     "metadata": {},
     "output_type": "execute_result"
    }
   ],
   "source": [
    "B_complement = U - B\n",
    "B_complement\n",
    "B_complement == ans4"
   ]
  },
  {
   "cell_type": "code",
   "execution_count": 75,
   "id": "7422abf2-9147-4c8c-b670-cb3521984da2",
   "metadata": {
    "tags": []
   },
   "outputs": [
    {
     "data": {
      "text/plain": [
       "False"
      ]
     },
     "execution_count": 75,
     "metadata": {},
     "output_type": "execute_result"
    }
   ],
   "source": [
    "A_union_B_comp = U - (A | B)\n",
    "\n",
    "A_union_B_comp == ans5"
   ]
  },
  {
   "cell_type": "code",
   "execution_count": 76,
   "id": "c7a3498a-b9a1-4922-94eb-8c9f5c3e4004",
   "metadata": {
    "tags": []
   },
   "outputs": [
    {
     "data": {
      "text/plain": [
       "True"
      ]
     },
     "execution_count": 76,
     "metadata": {},
     "output_type": "execute_result"
    }
   ],
   "source": [
    "B_intersect_Cnot = B - (B&C)\n",
    "B_intersect_Cnot == ans6"
   ]
  },
  {
   "cell_type": "code",
   "execution_count": 77,
   "id": "517f9cd8-4b69-40bf-92fc-4fc2c9059a88",
   "metadata": {
    "tags": []
   },
   "outputs": [
    {
     "data": {
      "text/plain": [
       "False"
      ]
     },
     "execution_count": 77,
     "metadata": {},
     "output_type": "execute_result"
    }
   ],
   "source": [
    "A_setminus_B = A - B\n",
    "A_setminus_B == ans7"
   ]
  },
  {
   "cell_type": "code",
   "execution_count": 78,
   "id": "7ee9dfab-27cc-47e6-a277-1d8924dde3e2",
   "metadata": {
    "tags": []
   },
   "outputs": [
    {
     "data": {
      "text/plain": [
       "True"
      ]
     },
     "execution_count": 78,
     "metadata": {},
     "output_type": "execute_result"
    }
   ],
   "source": [
    "C_setm_BA= C - (B-A)\n",
    "C_setm_BA\n",
    "\n",
    "C_setm_BA == ans8"
   ]
  },
  {
   "cell_type": "code",
   "execution_count": 79,
   "id": "52b52f72-aa9a-4f81-84fc-1f211d1fb724",
   "metadata": {
    "tags": []
   },
   "outputs": [
    {
     "data": {
      "text/plain": [
       "True"
      ]
     },
     "execution_count": 79,
     "metadata": {},
     "output_type": "execute_result"
    }
   ],
   "source": [
    "CA_union_CB = (C&A) | (C - B)\n",
    "CA_union_CB\n",
    "CA_union_CB == ans9"
   ]
  },
  {
   "cell_type": "markdown",
   "id": "cf111555-9085-4341-a5bf-3bb4c8cb0ed7",
   "metadata": {},
   "source": [
    "## The Inclusion Exclusion Principle"
   ]
  },
  {
   "cell_type": "code",
   "execution_count": 88,
   "id": "e72c018d-f474-4f42-a66b-73a0644740dd",
   "metadata": {
    "tags": []
   },
   "outputs": [
    {
     "data": {
      "text/plain": [
       "9"
      ]
     },
     "execution_count": 88,
     "metadata": {},
     "output_type": "execute_result"
    }
   ],
   "source": [
    "# A∪B∪C\n",
    "\n",
    "left_hand_eq = A | B | C\n",
    "\n",
    "len(left_hand_eq)"
   ]
  },
  {
   "cell_type": "code",
   "execution_count": 90,
   "id": "cbe9db56-7155-4a1d-8863-5901ff1e9434",
   "metadata": {
    "tags": []
   },
   "outputs": [
    {
     "data": {
      "text/plain": [
       "9"
      ]
     },
     "execution_count": 90,
     "metadata": {},
     "output_type": "execute_result"
    }
   ],
   "source": [
    "# ∣A∣+∣B∣+∣C∣−∣A∩B∣−∣A∩C∣−∣B∩C∣+∣A∩B∩C∣\n",
    "right_hand_eq = A | B | C - (A&B - A&C - B&C) | A&B&C\n",
    "\n",
    "len(right_hand_eq)"
   ]
  },
  {
   "cell_type": "code",
   "execution_count": 91,
   "id": "983cf0fc-f57f-4b00-9c21-f4b6d24a3aeb",
   "metadata": {
    "tags": []
   },
   "outputs": [
    {
     "data": {
      "text/plain": [
       "True"
      ]
     },
     "execution_count": 91,
     "metadata": {},
     "output_type": "execute_result"
    }
   ],
   "source": [
    "# Using a comparison operator to compare `left_hand_eq` and `right_hand_eq`\n",
    "right_hand_eq == left_hand_eq"
   ]
  },
  {
   "cell_type": "markdown",
   "id": "7d1abcc3-5879-4927-ab28-72486ded8464",
   "metadata": {},
   "source": [
    "## Set Operations in Python"
   ]
  },
  {
   "cell_type": "code",
   "execution_count": 114,
   "id": "6febe264-6223-460e-8e9d-1f98f8117fd6",
   "metadata": {
    "tags": []
   },
   "outputs": [],
   "source": [
    "Nina = set([\"Cat\",\"Dog\",\"Rabbit\",\"Donkey\",\"Parrot\", \"Goldfish\"])\n",
    "Mary = set([\"Dog\",\"Chinchilla\",\"Horse\", \"Chicken\"])\n",
    "Eve = set([\"Rabbit\", \"Turtle\", \"Goldfish\"])"
   ]
  },
  {
   "cell_type": "code",
   "execution_count": 115,
   "id": "6c0b3a38-4b2c-45e9-88cf-c6c97b60f450",
   "metadata": {
    "tags": []
   },
   "outputs": [
    {
     "data": {
      "text/plain": [
       "{'Goldfish', 'Rabbit'}"
      ]
     },
     "execution_count": 115,
     "metadata": {},
     "output_type": "execute_result"
    }
   ],
   "source": [
    "# update Eve's list remove 'Turtle'\n",
    "\n",
    "Eve.remove(\"Turtle\")\n",
    "Eve"
   ]
  },
  {
   "cell_type": "code",
   "execution_count": 116,
   "id": "8ca7c296-1fb4-4f13-ac83-0b69af596f3d",
   "metadata": {
    "tags": []
   },
   "outputs": [
    {
     "data": {
      "text/plain": [
       "{'Cat',\n",
       " 'Chicken',\n",
       " 'Chinchilla',\n",
       " 'Dog',\n",
       " 'Donkey',\n",
       " 'Goldfish',\n",
       " 'Horse',\n",
       " 'Parrot',\n",
       " 'Rabbit'}"
      ]
     },
     "execution_count": 116,
     "metadata": {},
     "output_type": "execute_result"
    }
   ],
   "source": [
    "# add to Nina all from Mary's list\n",
    "Nina |= Mary\n",
    "Nina"
   ]
  },
  {
   "cell_type": "code",
   "execution_count": 89,
   "id": "c6ef4a23-684b-4e93-a417-9f5b10f391fd",
   "metadata": {
    "tags": []
   },
   "outputs": [
    {
     "data": {
      "text/plain": [
       "{'Chicken', 'Chinchilla', 'Dog', 'Horse'}"
      ]
     },
     "execution_count": 89,
     "metadata": {},
     "output_type": "execute_result"
    }
   ],
   "source": [
    "Mary"
   ]
  },
  {
   "cell_type": "code",
   "execution_count": 92,
   "id": "e50f1c37-016b-4fcd-9cbd-84b2f5f187be",
   "metadata": {
    "tags": []
   },
   "outputs": [
    {
     "data": {
      "text/plain": [
       "set()"
      ]
     },
     "execution_count": 92,
     "metadata": {},
     "output_type": "execute_result"
    }
   ],
   "source": [
    "# remove all elements from Mary's List\n",
    "Mary.clear()\n",
    "Mary"
   ]
  },
  {
   "cell_type": "code",
   "execution_count": 117,
   "id": "1be76cc4-6625-4352-ade1-ec59545b11c6",
   "metadata": {
    "tags": []
   },
   "outputs": [
    {
     "name": "stdout",
     "output_type": "stream",
     "text": [
      "Nina is handling 9 species\n"
     ]
    }
   ],
   "source": [
    "# Number of specias Nina is handling\n",
    "n_species_nina = len(Nina)\n",
    "print(f\"Nina is handling {n_species_nina} species\")"
   ]
  },
  {
   "cell_type": "code",
   "execution_count": 118,
   "id": "7d1c87b5-1e30-4657-a04d-650a724f8d75",
   "metadata": {
    "tags": []
   },
   "outputs": [
    {
     "data": {
      "text/plain": [
       "7"
      ]
     },
     "execution_count": 118,
     "metadata": {},
     "output_type": "execute_result"
    }
   ],
   "source": [
    "# Nina gives Eve species in common\n",
    "Nina.difference_update(Eve)\n",
    "\n",
    "len(Nina)\n",
    "# Eve"
   ]
  },
  {
   "cell_type": "code",
   "execution_count": 119,
   "id": "87124f8c-f122-4208-ade1-551f299f5828",
   "metadata": {
    "tags": []
   },
   "outputs": [
    {
     "data": {
      "text/plain": [
       "{'Goldfish', 'Rabbit'}"
      ]
     },
     "execution_count": 119,
     "metadata": {},
     "output_type": "execute_result"
    }
   ],
   "source": [
    "Eve"
   ]
  },
  {
   "cell_type": "code",
   "execution_count": 8,
   "id": "cc3e181c-cdc4-45e2-8540-47dc6136be16",
   "metadata": {
    "tags": []
   },
   "outputs": [],
   "source": [
    "import pandas as pd\n",
    "import os"
   ]
  },
  {
   "cell_type": "code",
   "execution_count": null,
   "id": "31b078ec-b34e-4ea5-9a5c-232d7edeef9e",
   "metadata": {
    "tags": []
   },
   "outputs": [],
   "source": [
    "print(os.getcwd())"
   ]
  },
  {
   "cell_type": "code",
   "execution_count": 18,
   "id": "80358404-c500-429b-8ea7-d22c62556ea7",
   "metadata": {},
   "outputs": [
    {
     "data": {
      "text/html": [
       "<div>\n",
       "<style scoped>\n",
       "    .dataframe tbody tr th:only-of-type {\n",
       "        vertical-align: middle;\n",
       "    }\n",
       "\n",
       "    .dataframe tbody tr th {\n",
       "        vertical-align: top;\n",
       "    }\n",
       "\n",
       "    .dataframe thead th {\n",
       "        text-align: right;\n",
       "    }\n",
       "</style>\n",
       "<table border=\"1\" class=\"dataframe\">\n",
       "  <thead>\n",
       "    <tr style=\"text-align: right;\">\n",
       "      <th></th>\n",
       "      <th>Rank</th>\n",
       "      <th>Country</th>\n",
       "      <th>Population</th>\n",
       "      <th>% of population</th>\n",
       "      <th>Average relative annual growth (%)</th>\n",
       "      <th>Average absolute annual growth</th>\n",
       "      <th>Estimated doubling time (Years)</th>\n",
       "      <th>Official figure (where available)</th>\n",
       "      <th>Date of last figure</th>\n",
       "      <th>Regional grouping</th>\n",
       "      <th>Source</th>\n",
       "    </tr>\n",
       "  </thead>\n",
       "  <tbody>\n",
       "    <tr>\n",
       "      <th>0</th>\n",
       "      <td>1.0</td>\n",
       "      <td>Russia</td>\n",
       "      <td>143964709</td>\n",
       "      <td>17.15</td>\n",
       "      <td>0.19</td>\n",
       "      <td>294285</td>\n",
       "      <td>368</td>\n",
       "      <td>146839993</td>\n",
       "      <td>2017-01-01 00:00:00</td>\n",
       "      <td>EAEU</td>\n",
       "      <td>[1]</td>\n",
       "    </tr>\n",
       "    <tr>\n",
       "      <th>1</th>\n",
       "      <td>2.0</td>\n",
       "      <td>Germany</td>\n",
       "      <td>82521653</td>\n",
       "      <td>9.80</td>\n",
       "      <td>1.20</td>\n",
       "      <td>600000</td>\n",
       "      <td>90</td>\n",
       "      <td>82800000</td>\n",
       "      <td>2016-12-31 00:00:00</td>\n",
       "      <td>EU</td>\n",
       "      <td>Official estimate</td>\n",
       "    </tr>\n",
       "    <tr>\n",
       "      <th>2</th>\n",
       "      <td>3.0</td>\n",
       "      <td>Turkey</td>\n",
       "      <td>80810000</td>\n",
       "      <td>9.60</td>\n",
       "      <td>1.34</td>\n",
       "      <td>1035000</td>\n",
       "      <td>52</td>\n",
       "      <td>77695904</td>\n",
       "      <td>2016-12-31 00:00:00</td>\n",
       "      <td>NaN</td>\n",
       "      <td>[2]</td>\n",
       "    </tr>\n",
       "    <tr>\n",
       "      <th>3</th>\n",
       "      <td>4.0</td>\n",
       "      <td>France</td>\n",
       "      <td>65233271</td>\n",
       "      <td>7.76</td>\n",
       "      <td>0.39</td>\n",
       "      <td>261022</td>\n",
       "      <td>177</td>\n",
       "      <td>66991000</td>\n",
       "      <td>2017-03-01 00:00:00</td>\n",
       "      <td>EU</td>\n",
       "      <td>[3]</td>\n",
       "    </tr>\n",
       "    <tr>\n",
       "      <th>4</th>\n",
       "      <td>5.0</td>\n",
       "      <td>United Kingdom</td>\n",
       "      <td>65110276</td>\n",
       "      <td>7.75</td>\n",
       "      <td>0.75</td>\n",
       "      <td>484000</td>\n",
       "      <td>92</td>\n",
       "      <td>66573504</td>\n",
       "      <td>2016-12-30 00:00:00</td>\n",
       "      <td>EU</td>\n",
       "      <td>Official estimate</td>\n",
       "    </tr>\n",
       "  </tbody>\n",
       "</table>\n",
       "</div>"
      ],
      "text/plain": [
       "   Rank         Country  Population  % of population  \\\n",
       "0   1.0          Russia   143964709            17.15   \n",
       "1   2.0        Germany     82521653             9.80   \n",
       "2   3.0         Turkey     80810000             9.60   \n",
       "3   4.0          France    65233271             7.76   \n",
       "4   5.0  United Kingdom    65110276             7.75   \n",
       "\n",
       "   Average relative annual growth (%)  Average absolute annual growth  \\\n",
       "0                                0.19                          294285   \n",
       "1                                1.20                          600000   \n",
       "2                                1.34                         1035000   \n",
       "3                                0.39                          261022   \n",
       "4                                0.75                          484000   \n",
       "\n",
       "  Estimated doubling time (Years)  Official figure (where available)  \\\n",
       "0                             368                          146839993   \n",
       "1                              90                           82800000   \n",
       "2                              52                           77695904   \n",
       "3                             177                           66991000   \n",
       "4                              92                           66573504   \n",
       "\n",
       "   Date of last figure Regional grouping             Source  \n",
       "0  2017-01-01 00:00:00             EAEU                 [1]  \n",
       "1  2016-12-31 00:00:00               EU   Official estimate  \n",
       "2  2016-12-31 00:00:00               NaN                [2]  \n",
       "3  2017-03-01 00:00:00               EU                 [3]  \n",
       "4  2016-12-30 00:00:00               EU   Official estimate  "
      ]
     },
     "execution_count": 18,
     "metadata": {},
     "output_type": "execute_result"
    }
   ],
   "source": [
    "df1 = pd.read_excel(r\"C:..\\Excel Projects\\Lux Academy\\Europe_and_EU.xlsx\")\n",
    "df1.head()"
   ]
  },
  {
   "cell_type": "code",
   "execution_count": 19,
   "id": "23c4ef9e-e830-4fb5-ad2d-3ada1f3bd934",
   "metadata": {
    "tags": []
   },
   "outputs": [],
   "source": [
    "europe = pd.read_excel(r\"...\\Excel Projects\\Lux Academy\\Europe_and_EU.xlsx\", sheet_name = 'Europe') \n",
    "eu = pd.read_excel(r\"...\\Excel Projects\\Lux Academy\\Europe_and_EU.xlsx\", sheet_name = 'EU')"
   ]
  },
  {
   "cell_type": "code",
   "execution_count": 27,
   "id": "a21061b7-9550-4b7a-9b34-4aa8f28f1ee6",
   "metadata": {
    "tags": []
   },
   "outputs": [
    {
     "data": {
      "text/html": [
       "<div>\n",
       "<style scoped>\n",
       "    .dataframe tbody tr th:only-of-type {\n",
       "        vertical-align: middle;\n",
       "    }\n",
       "\n",
       "    .dataframe tbody tr th {\n",
       "        vertical-align: top;\n",
       "    }\n",
       "\n",
       "    .dataframe thead th {\n",
       "        text-align: right;\n",
       "    }\n",
       "</style>\n",
       "<table border=\"1\" class=\"dataframe\">\n",
       "  <thead>\n",
       "    <tr style=\"text-align: right;\">\n",
       "      <th></th>\n",
       "      <th>Rank</th>\n",
       "      <th>Country</th>\n",
       "      <th>Population</th>\n",
       "      <th>% of population</th>\n",
       "      <th>Average relative annual growth (%)</th>\n",
       "      <th>Average absolute annual growth</th>\n",
       "      <th>Estimated doubling time (Years)</th>\n",
       "      <th>Official figure (where available)</th>\n",
       "      <th>Date of last figure</th>\n",
       "      <th>Regional grouping</th>\n",
       "      <th>Source</th>\n",
       "    </tr>\n",
       "  </thead>\n",
       "  <tbody>\n",
       "    <tr>\n",
       "      <th>0</th>\n",
       "      <td>1.0</td>\n",
       "      <td>Russia</td>\n",
       "      <td>143964709</td>\n",
       "      <td>17.15</td>\n",
       "      <td>0.19</td>\n",
       "      <td>294285</td>\n",
       "      <td>368</td>\n",
       "      <td>146839993</td>\n",
       "      <td>2017-01-01 00:00:00</td>\n",
       "      <td>EAEU</td>\n",
       "      <td>[1]</td>\n",
       "    </tr>\n",
       "    <tr>\n",
       "      <th>1</th>\n",
       "      <td>2.0</td>\n",
       "      <td>Germany</td>\n",
       "      <td>82521653</td>\n",
       "      <td>9.80</td>\n",
       "      <td>1.20</td>\n",
       "      <td>600000</td>\n",
       "      <td>90</td>\n",
       "      <td>82800000</td>\n",
       "      <td>2016-12-31 00:00:00</td>\n",
       "      <td>EU</td>\n",
       "      <td>Official estimate</td>\n",
       "    </tr>\n",
       "    <tr>\n",
       "      <th>2</th>\n",
       "      <td>3.0</td>\n",
       "      <td>Turkey</td>\n",
       "      <td>80810000</td>\n",
       "      <td>9.60</td>\n",
       "      <td>1.34</td>\n",
       "      <td>1035000</td>\n",
       "      <td>52</td>\n",
       "      <td>77695904</td>\n",
       "      <td>2016-12-31 00:00:00</td>\n",
       "      <td>NaN</td>\n",
       "      <td>[2]</td>\n",
       "    </tr>\n",
       "    <tr>\n",
       "      <th>3</th>\n",
       "      <td>4.0</td>\n",
       "      <td>France</td>\n",
       "      <td>65233271</td>\n",
       "      <td>7.76</td>\n",
       "      <td>0.39</td>\n",
       "      <td>261022</td>\n",
       "      <td>177</td>\n",
       "      <td>66991000</td>\n",
       "      <td>2017-03-01 00:00:00</td>\n",
       "      <td>EU</td>\n",
       "      <td>[3]</td>\n",
       "    </tr>\n",
       "    <tr>\n",
       "      <th>4</th>\n",
       "      <td>5.0</td>\n",
       "      <td>United Kingdom</td>\n",
       "      <td>65110276</td>\n",
       "      <td>7.75</td>\n",
       "      <td>0.75</td>\n",
       "      <td>484000</td>\n",
       "      <td>92</td>\n",
       "      <td>66573504</td>\n",
       "      <td>2016-12-30 00:00:00</td>\n",
       "      <td>EU</td>\n",
       "      <td>Official estimate</td>\n",
       "    </tr>\n",
       "  </tbody>\n",
       "</table>\n",
       "</div>"
      ],
      "text/plain": [
       "   Rank         Country  Population  % of population  \\\n",
       "0   1.0          Russia   143964709            17.15   \n",
       "1   2.0         Germany    82521653             9.80   \n",
       "2   3.0          Turkey    80810000             9.60   \n",
       "3   4.0          France    65233271             7.76   \n",
       "4   5.0  United Kingdom    65110276             7.75   \n",
       "\n",
       "   Average relative annual growth (%)  Average absolute annual growth  \\\n",
       "0                                0.19                          294285   \n",
       "1                                1.20                          600000   \n",
       "2                                1.34                         1035000   \n",
       "3                                0.39                          261022   \n",
       "4                                0.75                          484000   \n",
       "\n",
       "  Estimated doubling time (Years)  Official figure (where available)  \\\n",
       "0                             368                          146839993   \n",
       "1                              90                           82800000   \n",
       "2                              52                           77695904   \n",
       "3                             177                           66991000   \n",
       "4                              92                           66573504   \n",
       "\n",
       "   Date of last figure Regional grouping             Source  \n",
       "0  2017-01-01 00:00:00             EAEU                 [1]  \n",
       "1  2016-12-31 00:00:00               EU   Official estimate  \n",
       "2  2016-12-31 00:00:00               NaN                [2]  \n",
       "3  2017-03-01 00:00:00               EU                 [3]  \n",
       "4  2016-12-30 00:00:00               EU   Official estimate  "
      ]
     },
     "execution_count": 27,
     "metadata": {},
     "output_type": "execute_result"
    }
   ],
   "source": [
    "europe.head()"
   ]
  },
  {
   "cell_type": "code",
   "execution_count": 28,
   "id": "62216a8d-4214-4f9f-8978-2eadefd2c1d3",
   "metadata": {
    "tags": []
   },
   "outputs": [
    {
     "data": {
      "text/html": [
       "<div>\n",
       "<style scoped>\n",
       "    .dataframe tbody tr th:only-of-type {\n",
       "        vertical-align: middle;\n",
       "    }\n",
       "\n",
       "    .dataframe tbody tr th {\n",
       "        vertical-align: top;\n",
       "    }\n",
       "\n",
       "    .dataframe thead th {\n",
       "        text-align: right;\n",
       "    }\n",
       "</style>\n",
       "<table border=\"1\" class=\"dataframe\">\n",
       "  <thead>\n",
       "    <tr style=\"text-align: right;\">\n",
       "      <th></th>\n",
       "      <th>Rank</th>\n",
       "      <th>Country</th>\n",
       "      <th>2017 population</th>\n",
       "      <th>% of pop.</th>\n",
       "      <th>Average relative annual growth</th>\n",
       "      <th>Average absolute annual growth</th>\n",
       "      <th>Official figure</th>\n",
       "      <th>Date of last figure</th>\n",
       "      <th>Source</th>\n",
       "    </tr>\n",
       "  </thead>\n",
       "  <tbody>\n",
       "    <tr>\n",
       "      <th>0</th>\n",
       "      <td>1</td>\n",
       "      <td>Germany</td>\n",
       "      <td>82800000</td>\n",
       "      <td>16.18</td>\n",
       "      <td>0.76</td>\n",
       "      <td>628876</td>\n",
       "      <td>82576900</td>\n",
       "      <td>2017-03-31</td>\n",
       "      <td>Official estimate</td>\n",
       "    </tr>\n",
       "    <tr>\n",
       "      <th>1</th>\n",
       "      <td>2</td>\n",
       "      <td>France</td>\n",
       "      <td>67210459</td>\n",
       "      <td>13.10</td>\n",
       "      <td>0.40</td>\n",
       "      <td>265557</td>\n",
       "      <td>67174000</td>\n",
       "      <td>2018-01-01</td>\n",
       "      <td>Monthly official estimate</td>\n",
       "    </tr>\n",
       "    <tr>\n",
       "      <th>2</th>\n",
       "      <td>3</td>\n",
       "      <td>United Kingdom</td>\n",
       "      <td>65808573</td>\n",
       "      <td>12.86</td>\n",
       "      <td>0.65</td>\n",
       "      <td>428793</td>\n",
       "      <td>65648100</td>\n",
       "      <td>2017-06-30</td>\n",
       "      <td>Official estimate</td>\n",
       "    </tr>\n",
       "    <tr>\n",
       "      <th>3</th>\n",
       "      <td>4</td>\n",
       "      <td>Italy</td>\n",
       "      <td>60589445</td>\n",
       "      <td>11.84</td>\n",
       "      <td>-0.13</td>\n",
       "      <td>-76001</td>\n",
       "      <td>60494000</td>\n",
       "      <td>2018-01-01</td>\n",
       "      <td>Monthly official estimate</td>\n",
       "    </tr>\n",
       "    <tr>\n",
       "      <th>4</th>\n",
       "      <td>5</td>\n",
       "      <td>Spain</td>\n",
       "      <td>46528966</td>\n",
       "      <td>9.09</td>\n",
       "      <td>0.19</td>\n",
       "      <td>89037</td>\n",
       "      <td>46549045</td>\n",
       "      <td>2017-07-01</td>\n",
       "      <td>Official estimate</td>\n",
       "    </tr>\n",
       "  </tbody>\n",
       "</table>\n",
       "</div>"
      ],
      "text/plain": [
       "   Rank         Country  2017 population  % of pop.  \\\n",
       "0     1         Germany         82800000      16.18   \n",
       "1     2          France         67210459      13.10   \n",
       "2     3  United Kingdom         65808573      12.86   \n",
       "3     4           Italy         60589445      11.84   \n",
       "4     5           Spain         46528966       9.09   \n",
       "\n",
       "   Average relative annual growth  Average absolute annual growth  \\\n",
       "0                            0.76                          628876   \n",
       "1                            0.40                          265557   \n",
       "2                            0.65                          428793   \n",
       "3                           -0.13                          -76001   \n",
       "4                            0.19                           89037   \n",
       "\n",
       "   Official figure Date of last figure                     Source  \n",
       "0         82576900          2017-03-31          Official estimate  \n",
       "1         67174000          2018-01-01  Monthly official estimate  \n",
       "2         65648100          2017-06-30          Official estimate  \n",
       "3         60494000          2018-01-01  Monthly official estimate  \n",
       "4         46549045          2017-07-01          Official estimate  "
      ]
     },
     "execution_count": 28,
     "metadata": {},
     "output_type": "execute_result"
    }
   ],
   "source": [
    "eu.head()"
   ]
  },
  {
   "cell_type": "code",
   "execution_count": 34,
   "id": "1cd77031-200b-4daa-afb6-a9d2df2ae9a1",
   "metadata": {
    "tags": []
   },
   "outputs": [],
   "source": [
    "# remove whitespaces in ['Country'] column\n",
    "europe['Country'] = europe['Country'].str.strip()\n",
    "eu['Country'] = eu['Country'].str.strip()"
   ]
  },
  {
   "cell_type": "code",
   "execution_count": 30,
   "id": "5fa70665-bfe2-4b81-bc0c-824ceb56a782",
   "metadata": {
    "tags": []
   },
   "outputs": [],
   "source": [
    "# convert to sets\n",
    "europe_countries = set(europe['Country'])\n",
    "eu_countries = set(eu['Country'])"
   ]
  },
  {
   "cell_type": "code",
   "execution_count": 32,
   "id": "5ec07f72-fedd-44c1-a59c-7e4f545cf6ed",
   "metadata": {
    "tags": []
   },
   "outputs": [
    {
     "data": {
      "text/plain": [
       "True"
      ]
     },
     "execution_count": 32,
     "metadata": {},
     "output_type": "execute_result"
    }
   ],
   "source": [
    "# Check to confirm that the EU countries are a subset of countries in Europe\n",
    "eu_countries <= europe_countries"
   ]
  },
  {
   "cell_type": "code",
   "execution_count": 33,
   "id": "f9328165-f70b-4b76-a89a-fa93b2f59f3e",
   "metadata": {
    "tags": []
   },
   "outputs": [
    {
     "data": {
      "text/plain": [
       "{'Albania',\n",
       " 'Andorra',\n",
       " 'Armenia',\n",
       " 'Azerbaijan',\n",
       " 'Belarus',\n",
       " 'Bosnia and Herzegovina',\n",
       " 'Faroe Islands (Denmark)',\n",
       " 'Georgia',\n",
       " 'Gibraltar (UK)',\n",
       " 'Guernsey (UK)',\n",
       " 'Iceland',\n",
       " 'Isle of Man (UK)',\n",
       " 'Jersey (UK)',\n",
       " 'Kosovo',\n",
       " 'Liechtenstein',\n",
       " 'Macedonia',\n",
       " 'Moldova',\n",
       " 'Monaco',\n",
       " 'Montenegro',\n",
       " 'Norway',\n",
       " 'Russia',\n",
       " 'San Marino',\n",
       " 'Serbia',\n",
       " 'Svalbard (Norway)',\n",
       " 'Switzerland',\n",
       " 'Turkey',\n",
       " 'Ukraine',\n",
       " 'Vatican City',\n",
       " 'Åland Islands (Finland)'}"
      ]
     },
     "execution_count": 33,
     "metadata": {},
     "output_type": "execute_result"
    }
   ],
   "source": [
    "# Find the set of countries that are in Europe but not the EU\n",
    "europe_countries - eu_countries"
   ]
  },
  {
   "cell_type": "code",
   "execution_count": null,
   "id": "526f268a-2fb2-4a05-b675-3e491157b2a9",
   "metadata": {},
   "outputs": [],
   "source": []
  }
 ],
 "metadata": {
  "kernelspec": {
   "display_name": "Python 3 (ipykernel)",
   "language": "python",
   "name": "python3"
  },
  "language_info": {
   "codemirror_mode": {
    "name": "ipython",
    "version": 3
   },
   "file_extension": ".py",
   "mimetype": "text/x-python",
   "name": "python",
   "nbconvert_exporter": "python",
   "pygments_lexer": "ipython3",
   "version": "3.11.5"
  }
 },
 "nbformat": 4,
 "nbformat_minor": 5
}
