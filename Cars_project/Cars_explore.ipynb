{
 "cells": [
  {
   "cell_type": "code",
   "execution_count": 1,
   "id": "7709729b-78fc-406c-abce-f01e6181c5ff",
   "metadata": {
    "tags": []
   },
   "outputs": [],
   "source": [
    "# load libraries\n",
    "import pandas as pd\n",
    "import matplotlib.pyplot as plt\n",
    "import seaborn as sns"
   ]
  },
  {
   "cell_type": "code",
   "execution_count": 2,
   "id": "b6993be9-90b2-4ed6-9f53-d7d947bad7df",
   "metadata": {
    "tags": []
   },
   "outputs": [
    {
     "data": {
      "text/html": [
       "<div>\n",
       "<style scoped>\n",
       "    .dataframe tbody tr th:only-of-type {\n",
       "        vertical-align: middle;\n",
       "    }\n",
       "\n",
       "    .dataframe tbody tr th {\n",
       "        vertical-align: top;\n",
       "    }\n",
       "\n",
       "    .dataframe thead th {\n",
       "        text-align: right;\n",
       "    }\n",
       "</style>\n",
       "<table border=\"1\" class=\"dataframe\">\n",
       "  <thead>\n",
       "    <tr style=\"text-align: right;\">\n",
       "      <th></th>\n",
       "      <th>name</th>\n",
       "      <th>year</th>\n",
       "      <th>selling_price</th>\n",
       "      <th>km_driven</th>\n",
       "      <th>fuel</th>\n",
       "      <th>seller_type</th>\n",
       "      <th>transmission</th>\n",
       "      <th>owner</th>\n",
       "      <th>mileage(km/ltr/kg)</th>\n",
       "      <th>engine</th>\n",
       "      <th>max_power</th>\n",
       "      <th>seats</th>\n",
       "      <th>Cars_Age</th>\n",
       "      <th>price_per_kilometer</th>\n",
       "    </tr>\n",
       "  </thead>\n",
       "  <tbody>\n",
       "    <tr>\n",
       "      <th>0</th>\n",
       "      <td>Maruti Swift Dzire VDI</td>\n",
       "      <td>2014</td>\n",
       "      <td>450000</td>\n",
       "      <td>145500</td>\n",
       "      <td>Diesel</td>\n",
       "      <td>Individual</td>\n",
       "      <td>Manual</td>\n",
       "      <td>First Owner</td>\n",
       "      <td>23.40</td>\n",
       "      <td>1248.0</td>\n",
       "      <td>74.00</td>\n",
       "      <td>5.0</td>\n",
       "      <td>11</td>\n",
       "      <td>19230.769231</td>\n",
       "    </tr>\n",
       "    <tr>\n",
       "      <th>1</th>\n",
       "      <td>Skoda Rapid 1.5 TDI Ambition</td>\n",
       "      <td>2014</td>\n",
       "      <td>370000</td>\n",
       "      <td>120000</td>\n",
       "      <td>Diesel</td>\n",
       "      <td>Individual</td>\n",
       "      <td>Manual</td>\n",
       "      <td>Second Owner</td>\n",
       "      <td>21.14</td>\n",
       "      <td>1498.0</td>\n",
       "      <td>103.52</td>\n",
       "      <td>5.0</td>\n",
       "      <td>11</td>\n",
       "      <td>17502.365184</td>\n",
       "    </tr>\n",
       "    <tr>\n",
       "      <th>2</th>\n",
       "      <td>Honda City 2017-2020 EXi</td>\n",
       "      <td>2006</td>\n",
       "      <td>158000</td>\n",
       "      <td>140000</td>\n",
       "      <td>Petrol</td>\n",
       "      <td>Individual</td>\n",
       "      <td>Manual</td>\n",
       "      <td>Third Owner</td>\n",
       "      <td>17.70</td>\n",
       "      <td>1497.0</td>\n",
       "      <td>78.00</td>\n",
       "      <td>5.0</td>\n",
       "      <td>19</td>\n",
       "      <td>8926.553672</td>\n",
       "    </tr>\n",
       "    <tr>\n",
       "      <th>3</th>\n",
       "      <td>Hyundai i20 Sportz Diesel</td>\n",
       "      <td>2010</td>\n",
       "      <td>225000</td>\n",
       "      <td>127000</td>\n",
       "      <td>Diesel</td>\n",
       "      <td>Individual</td>\n",
       "      <td>Manual</td>\n",
       "      <td>First Owner</td>\n",
       "      <td>23.00</td>\n",
       "      <td>1396.0</td>\n",
       "      <td>90.00</td>\n",
       "      <td>5.0</td>\n",
       "      <td>15</td>\n",
       "      <td>9782.608696</td>\n",
       "    </tr>\n",
       "    <tr>\n",
       "      <th>4</th>\n",
       "      <td>Maruti Swift VXI BSIII</td>\n",
       "      <td>2007</td>\n",
       "      <td>130000</td>\n",
       "      <td>120000</td>\n",
       "      <td>Petrol</td>\n",
       "      <td>Individual</td>\n",
       "      <td>Manual</td>\n",
       "      <td>First Owner</td>\n",
       "      <td>16.10</td>\n",
       "      <td>1298.0</td>\n",
       "      <td>88.20</td>\n",
       "      <td>5.0</td>\n",
       "      <td>18</td>\n",
       "      <td>8074.534161</td>\n",
       "    </tr>\n",
       "  </tbody>\n",
       "</table>\n",
       "</div>"
      ],
      "text/plain": [
       "                           name  year  selling_price  km_driven    fuel  \\\n",
       "0        Maruti Swift Dzire VDI  2014         450000     145500  Diesel   \n",
       "1  Skoda Rapid 1.5 TDI Ambition  2014         370000     120000  Diesel   \n",
       "2      Honda City 2017-2020 EXi  2006         158000     140000  Petrol   \n",
       "3     Hyundai i20 Sportz Diesel  2010         225000     127000  Diesel   \n",
       "4        Maruti Swift VXI BSIII  2007         130000     120000  Petrol   \n",
       "\n",
       "  seller_type transmission         owner  mileage(km/ltr/kg)  engine  \\\n",
       "0  Individual       Manual   First Owner               23.40  1248.0   \n",
       "1  Individual       Manual  Second Owner               21.14  1498.0   \n",
       "2  Individual       Manual   Third Owner               17.70  1497.0   \n",
       "3  Individual       Manual   First Owner               23.00  1396.0   \n",
       "4  Individual       Manual   First Owner               16.10  1298.0   \n",
       "\n",
       "   max_power  seats  Cars_Age  price_per_kilometer  \n",
       "0      74.00    5.0        11         19230.769231  \n",
       "1     103.52    5.0        11         17502.365184  \n",
       "2      78.00    5.0        19          8926.553672  \n",
       "3      90.00    5.0        15          9782.608696  \n",
       "4      88.20    5.0        18          8074.534161  "
      ]
     },
     "execution_count": 2,
     "metadata": {},
     "output_type": "execute_result"
    }
   ],
   "source": [
    "df = pd.read_csv(\"data/car_clean.csv\")\n",
    "df.head()"
   ]
  },
  {
   "cell_type": "code",
   "execution_count": 3,
   "id": "a10ac6c8-6d21-4658-a00d-220d703d5da9",
   "metadata": {
    "tags": []
   },
   "outputs": [
    {
     "name": "stdout",
     "output_type": "stream",
     "text": [
      " The average selling price of the cars is $501378.18\n"
     ]
    }
   ],
   "source": [
    "# average selling_price of cars\n",
    "avg_car_price = df[\"selling_price\"].mean().round(2)\n",
    "\n",
    "print(f\" The average selling price of the cars is ${avg_car_price}\")"
   ]
  },
  {
   "cell_type": "code",
   "execution_count": 4,
   "id": "33d48025-da74-4691-963e-5250e52c223b",
   "metadata": {
    "tags": []
   },
   "outputs": [
    {
     "name": "stdout",
     "output_type": "stream",
     "text": [
      "The most common fuel type is Diesel with 3741 entries\n"
     ]
    }
   ],
   "source": [
    "# most common fuel type \n",
    "\n",
    "fuel_type = df[\"fuel\"].value_counts().index[0]\n",
    "fuel_count = df[\"fuel\"].value_counts().iloc[0]\n",
    "\n",
    "print(f\"The most common fuel type is {fuel_type} with {fuel_count} entries\")"
   ]
  },
  {
   "cell_type": "code",
   "execution_count": 5,
   "id": "161d49a7-4e9b-4435-8e35-db93774cd823",
   "metadata": {
    "tags": []
   },
   "outputs": [
    {
     "data": {
      "image/png": "[encoded data removed]",
      "text/plain": [
       "<Figure size 640x480 with 1 Axes>"
      ]
     },
     "metadata": {},
     "output_type": "display_data"
    }
   ],
   "source": [
    "# hist of \"selling_price\"\n",
    "plt.hist(df[\"selling_price\"])\n",
    "\n",
    "plt.xlabel(\"Selling Price [$]\")\n",
    "plt.ylabel(\"Frequency\")\n",
    "plt.title(\"Distribution Selling Price\")\n",
    "\n",
    "plt.show()"
   ]
  },
  {
   "cell_type": "code",
   "execution_count": 6,
   "id": "1b10c510-f3d8-496e-b443-2520a7b8d892",
   "metadata": {
    "tags": []
   },
   "outputs": [
    {
     "data": {
      "image/png": "[encoded data removed]",
      "text/plain": [
       "<Figure size 640x480 with 1 Axes>"
      ]
     },
     "metadata": {},
     "output_type": "display_data"
    }
   ],
   "source": [
    "# scatter plot of \"cars_age vs selling_price\"\n",
    "plt.scatter(df[\"Cars_Age\"], df[\"selling_price\"])\n",
    "\n",
    "plt.xlabel(\"Car Age [years]\")\n",
    "plt.ylabel(\"Selling Price [$]\")\n",
    "plt.title(\"Selling Price vs Car Age\")\n",
    "\n",
    "plt.show()"
   ]
  },
  {
   "cell_type": "code",
   "execution_count": 7,
   "id": "abfcd391-27a1-4900-bc9b-a8eeaf0e57c9",
   "metadata": {
    "tags": []
   },
   "outputs": [
    {
     "data": {
      "text/plain": [
       "fuel\n",
       "Diesel    620448.48\n",
       "Petrol    363717.34\n",
       "CNG       300499.95\n",
       "LPG       200421.05\n",
       "Name: selling_price, dtype: float64"
      ]
     },
     "execution_count": 7,
     "metadata": {},
     "output_type": "execute_result"
    }
   ],
   "source": [
    "# average \"selling price\" grouped by \"fuel type\"\n",
    "df.groupby(\"fuel\")[\"selling_price\"].mean().round(2).sort_values(ascending=False)"
   ]
  },
  {
   "cell_type": "code",
   "execution_count": 8,
   "id": "71eb901c-1f59-4550-92e5-d8e57f6cd051",
   "metadata": {
    "tags": []
   },
   "outputs": [
    {
     "data": {
      "image/png": "[encoded data removed]",
      "text/plain": [
       "<Figure size 640x480 with 1 Axes>"
      ]
     },
     "metadata": {},
     "output_type": "display_data"
    }
   ],
   "source": [
    "# count cars per trnasmission type\n",
    "transmission_count = df[\"transmission\"].value_counts()\n",
    "\n",
    "# bar chart of cars per transmission type\n",
    "transmission_count.plot(kind='bar')\n",
    "\n",
    "# add labes and title \n",
    "plt.title(\"Transmission Type\")\n",
    "plt.xlabel(\"Car Type\")\n",
    "plt.ylabel(\"Transmission \")\n",
    "\n",
    "\n",
    "plt.show()"
   ]
  },
  {
   "cell_type": "code",
   "execution_count": 9,
   "id": "05108575-0088-46b6-900f-f7232b6f678a",
   "metadata": {
    "tags": []
   },
   "outputs": [
    {
     "name": "stdout",
     "output_type": "stream",
     "text": [
      "<class 'pandas.core.frame.DataFrame'>\n",
      "RangeIndex: 6906 entries, 0 to 6905\n",
      "Data columns (total 14 columns):\n",
      " #   Column               Non-Null Count  Dtype  \n",
      "---  ------               --------------  -----  \n",
      " 0   name                 6906 non-null   object \n",
      " 1   year                 6906 non-null   int64  \n",
      " 2   selling_price        6906 non-null   int64  \n",
      " 3   km_driven            6906 non-null   int64  \n",
      " 4   fuel                 6906 non-null   object \n",
      " 5   seller_type          6906 non-null   object \n",
      " 6   transmission         6906 non-null   object \n",
      " 7   owner                6906 non-null   object \n",
      " 8   mileage(km/ltr/kg)   6906 non-null   float64\n",
      " 9   engine               6906 non-null   float64\n",
      " 10  max_power            6906 non-null   float64\n",
      " 11  seats                6906 non-null   float64\n",
      " 12  Cars_Age             6906 non-null   int64  \n",
      " 13  price_per_kilometer  6906 non-null   float64\n",
      "dtypes: float64(5), int64(4), object(5)\n",
      "memory usage: 755.5+ KB\n"
     ]
    }
   ],
   "source": [
    "df.info()"
   ]
  },
  {
   "cell_type": "code",
   "execution_count": 11,
   "id": "ca076a76-d3f4-43d0-acbd-6d70a510908d",
   "metadata": {
    "tags": []
   },
   "outputs": [
    {
     "name": "stdout",
     "output_type": "stream",
     "text": [
      "Highest Mileage: 35\n",
      "name                   Maruti Alto 800 CNG LXI Optional\n",
      "year                                               2019\n",
      "selling_price                                    330000\n",
      "km_driven                                         10000\n",
      "fuel                                                CNG\n",
      "seller_type                                  Individual\n",
      "transmission                                     Manual\n",
      "owner                                      Second Owner\n",
      "mileage(km/ltr/kg)                                33.44\n",
      "engine                                            796.0\n",
      "max_power                                          40.3\n",
      "seats                                               4.0\n",
      "Cars_Age                                              6\n",
      "price_per_kilometer                         9868.421053\n",
      "Name: 35, dtype: object\n"
     ]
    }
   ],
   "source": [
    "highest_mileage= df[\"mileage(km/ltr/kg)\"].idxmax()\n",
    "df.loc[highest_mileage]\n",
    "\n",
    "print(f\"Highest Mileage: {highest_mileage}\")\n",
    "print(df.loc[highest_mileage])"
   ]
  },
  {
   "cell_type": "code",
   "execution_count": 12,
   "id": "f4a3608b-94e6-41ad-a74a-8c5b171483d8",
   "metadata": {
    "tags": []
   },
   "outputs": [
    {
     "data": {
      "text/html": [
       "<div>\n",
       "<style scoped>\n",
       "    .dataframe tbody tr th:only-of-type {\n",
       "        vertical-align: middle;\n",
       "    }\n",
       "\n",
       "    .dataframe tbody tr th {\n",
       "        vertical-align: top;\n",
       "    }\n",
       "\n",
       "    .dataframe thead th {\n",
       "        text-align: right;\n",
       "    }\n",
       "</style>\n",
       "<table border=\"1\" class=\"dataframe\">\n",
       "  <thead>\n",
       "    <tr style=\"text-align: right;\">\n",
       "      <th></th>\n",
       "      <th>mileage(km/ltr/kg)</th>\n",
       "      <th>selling_price</th>\n",
       "    </tr>\n",
       "  </thead>\n",
       "  <tbody>\n",
       "    <tr>\n",
       "      <th>mileage(km/ltr/kg)</th>\n",
       "      <td>1.00000</td>\n",
       "      <td>-0.12105</td>\n",
       "    </tr>\n",
       "    <tr>\n",
       "      <th>selling_price</th>\n",
       "      <td>-0.12105</td>\n",
       "      <td>1.00000</td>\n",
       "    </tr>\n",
       "  </tbody>\n",
       "</table>\n",
       "</div>"
      ],
      "text/plain": [
       "                    mileage(km/ltr/kg)  selling_price\n",
       "mileage(km/ltr/kg)             1.00000       -0.12105\n",
       "selling_price                 -0.12105        1.00000"
      ]
     },
     "execution_count": 12,
     "metadata": {},
     "output_type": "execute_result"
    }
   ],
   "source": [
    "# corelation between milleage and selling price\n",
    "# df.corr(\"mileage(km/ltr/kg)\", \"selling_price\")\n",
    "df[[\"mileage(km/ltr/kg)\", \"selling_price\"]] .corr(method='pearson')"
   ]
  },
  {
   "cell_type": "code",
   "execution_count": 13,
   "id": "805ffe51-5831-43c7-a739-f147ab9a6370",
   "metadata": {
    "tags": []
   },
   "outputs": [
    {
     "data": {
      "text/html": [
       "<div>\n",
       "<style scoped>\n",
       "    .dataframe tbody tr th:only-of-type {\n",
       "        vertical-align: middle;\n",
       "    }\n",
       "\n",
       "    .dataframe tbody tr th {\n",
       "        vertical-align: top;\n",
       "    }\n",
       "\n",
       "    .dataframe thead th {\n",
       "        text-align: right;\n",
       "    }\n",
       "</style>\n",
       "<table border=\"1\" class=\"dataframe\">\n",
       "  <thead>\n",
       "    <tr style=\"text-align: right;\">\n",
       "      <th></th>\n",
       "      <th>year</th>\n",
       "      <th>selling_price</th>\n",
       "      <th>km_driven</th>\n",
       "      <th>mileage(km/ltr/kg)</th>\n",
       "      <th>engine</th>\n",
       "      <th>max_power</th>\n",
       "      <th>seats</th>\n",
       "      <th>Cars_Age</th>\n",
       "      <th>price_per_kilometer</th>\n",
       "    </tr>\n",
       "  </thead>\n",
       "  <tbody>\n",
       "    <tr>\n",
       "      <th>year</th>\n",
       "      <td>1.000000</td>\n",
       "      <td>0.485645</td>\n",
       "      <td>-0.374980</td>\n",
       "      <td>0.349364</td>\n",
       "      <td>-0.007614</td>\n",
       "      <td>0.148499</td>\n",
       "      <td>0.044313</td>\n",
       "      <td>-1.000000</td>\n",
       "      <td>0.345472</td>\n",
       "    </tr>\n",
       "    <tr>\n",
       "      <th>selling_price</th>\n",
       "      <td>0.485645</td>\n",
       "      <td>1.000000</td>\n",
       "      <td>-0.169558</td>\n",
       "      <td>-0.121050</td>\n",
       "      <td>0.478464</td>\n",
       "      <td>0.688878</td>\n",
       "      <td>0.223538</td>\n",
       "      <td>-0.485645</td>\n",
       "      <td>0.947989</td>\n",
       "    </tr>\n",
       "    <tr>\n",
       "      <th>km_driven</th>\n",
       "      <td>-0.374980</td>\n",
       "      <td>-0.169558</td>\n",
       "      <td>1.000000</td>\n",
       "      <td>-0.196912</td>\n",
       "      <td>0.253357</td>\n",
       "      <td>0.052689</td>\n",
       "      <td>0.200104</td>\n",
       "      <td>0.374980</td>\n",
       "      <td>-0.097414</td>\n",
       "    </tr>\n",
       "    <tr>\n",
       "      <th>mileage(km/ltr/kg)</th>\n",
       "      <td>0.349364</td>\n",
       "      <td>-0.121050</td>\n",
       "      <td>-0.196912</td>\n",
       "      <td>1.000000</td>\n",
       "      <td>-0.579822</td>\n",
       "      <td>-0.390335</td>\n",
       "      <td>-0.460321</td>\n",
       "      <td>-0.349364</td>\n",
       "      <td>-0.340180</td>\n",
       "    </tr>\n",
       "    <tr>\n",
       "      <th>engine</th>\n",
       "      <td>-0.007614</td>\n",
       "      <td>0.478464</td>\n",
       "      <td>0.253357</td>\n",
       "      <td>-0.579822</td>\n",
       "      <td>1.000000</td>\n",
       "      <td>0.683980</td>\n",
       "      <td>0.668062</td>\n",
       "      <td>0.007614</td>\n",
       "      <td>0.585023</td>\n",
       "    </tr>\n",
       "    <tr>\n",
       "      <th>max_power</th>\n",
       "      <td>0.148499</td>\n",
       "      <td>0.688878</td>\n",
       "      <td>0.052689</td>\n",
       "      <td>-0.390335</td>\n",
       "      <td>0.683980</td>\n",
       "      <td>1.000000</td>\n",
       "      <td>0.279185</td>\n",
       "      <td>-0.148499</td>\n",
       "      <td>0.727277</td>\n",
       "    </tr>\n",
       "    <tr>\n",
       "      <th>seats</th>\n",
       "      <td>0.044313</td>\n",
       "      <td>0.223538</td>\n",
       "      <td>0.200104</td>\n",
       "      <td>-0.460321</td>\n",
       "      <td>0.668062</td>\n",
       "      <td>0.279185</td>\n",
       "      <td>1.000000</td>\n",
       "      <td>-0.044313</td>\n",
       "      <td>0.320155</td>\n",
       "    </tr>\n",
       "    <tr>\n",
       "      <th>Cars_Age</th>\n",
       "      <td>-1.000000</td>\n",
       "      <td>-0.485645</td>\n",
       "      <td>0.374980</td>\n",
       "      <td>-0.349364</td>\n",
       "      <td>0.007614</td>\n",
       "      <td>-0.148499</td>\n",
       "      <td>-0.044313</td>\n",
       "      <td>1.000000</td>\n",
       "      <td>-0.345472</td>\n",
       "    </tr>\n",
       "    <tr>\n",
       "      <th>price_per_kilometer</th>\n",
       "      <td>0.345472</td>\n",
       "      <td>0.947989</td>\n",
       "      <td>-0.097414</td>\n",
       "      <td>-0.340180</td>\n",
       "      <td>0.585023</td>\n",
       "      <td>0.727277</td>\n",
       "      <td>0.320155</td>\n",
       "      <td>-0.345472</td>\n",
       "      <td>1.000000</td>\n",
       "    </tr>\n",
       "  </tbody>\n",
       "</table>\n",
       "</div>"
      ],
      "text/plain": [
       "                         year  selling_price  km_driven  mileage(km/ltr/kg)  \\\n",
       "year                 1.000000       0.485645  -0.374980            0.349364   \n",
       "selling_price        0.485645       1.000000  -0.169558           -0.121050   \n",
       "km_driven           -0.374980      -0.169558   1.000000           -0.196912   \n",
       "mileage(km/ltr/kg)   0.349364      -0.121050  -0.196912            1.000000   \n",
       "engine              -0.007614       0.478464   0.253357           -0.579822   \n",
       "max_power            0.148499       0.688878   0.052689           -0.390335   \n",
       "seats                0.044313       0.223538   0.200104           -0.460321   \n",
       "Cars_Age            -1.000000      -0.485645   0.374980           -0.349364   \n",
       "price_per_kilometer  0.345472       0.947989  -0.097414           -0.340180   \n",
       "\n",
       "                       engine  max_power     seats  Cars_Age  \\\n",
       "year                -0.007614   0.148499  0.044313 -1.000000   \n",
       "selling_price        0.478464   0.688878  0.223538 -0.485645   \n",
       "km_driven            0.253357   0.052689  0.200104  0.374980   \n",
       "mileage(km/ltr/kg)  -0.579822  -0.390335 -0.460321 -0.349364   \n",
       "engine               1.000000   0.683980  0.668062  0.007614   \n",
       "max_power            0.683980   1.000000  0.279185 -0.148499   \n",
       "seats                0.668062   0.279185  1.000000 -0.044313   \n",
       "Cars_Age             0.007614  -0.148499 -0.044313  1.000000   \n",
       "price_per_kilometer  0.585023   0.727277  0.320155 -0.345472   \n",
       "\n",
       "                     price_per_kilometer  \n",
       "year                            0.345472  \n",
       "selling_price                   0.947989  \n",
       "km_driven                      -0.097414  \n",
       "mileage(km/ltr/kg)             -0.340180  \n",
       "engine                          0.585023  \n",
       "max_power                       0.727277  \n",
       "seats                           0.320155  \n",
       "Cars_Age                       -0.345472  \n",
       "price_per_kilometer             1.000000  "
      ]
     },
     "execution_count": 13,
     "metadata": {},
     "output_type": "execute_result"
    }
   ],
   "source": [
    "# find corelation of numeric columns\n",
    "all_data = df.corr(numeric_only=True)\n",
    "all_data"
   ]
  },
  {
   "cell_type": "code",
   "execution_count": 14,
   "id": "d1ce2586-d714-4791-9705-20460b4602d9",
   "metadata": {
    "tags": []
   },
   "outputs": [
    {
     "data": {
      "image/png": "[encoded data removed]",
      "text/plain": [
       "<Figure size 640x480 with 2 Axes>"
      ]
     },
     "metadata": {},
     "output_type": "display_data"
    }
   ],
   "source": [
    "# plot heatmap\n",
    "sns.heatmap(all_data, cmap='coolwarm')\n",
    "\n",
    "# add title\n",
    "plt.title(\"Corelation of Numeric Columns\")\n",
    "plt.show()"
   ]
  },
  {
   "cell_type": "markdown",
   "id": "5cc767fb-1dbc-4358-95b7-32062bfd336d",
   "metadata": {},
   "source": [
    "Theres a high corelation between Price_per_kilometer and selling_price"
   ]
  },
  {
   "cell_type": "code",
   "execution_count": 15,
   "id": "5b3bd019-bee1-412b-9b37-7d0e003720f2",
   "metadata": {
    "tags": []
   },
   "outputs": [
    {
     "data": {
      "text/plain": [
       "transmission\n",
       "Automatic    800000.0\n",
       "Manual       385000.0\n",
       "Name: selling_price, dtype: float64"
      ]
     },
     "execution_count": 15,
     "metadata": {},
     "output_type": "execute_result"
    }
   ],
   "source": [
    "# price of manual vs automatic cars\n",
    "df.groupby(\"transmission\")[\"selling_price\"].median()"
   ]
  },
  {
   "cell_type": "code",
   "execution_count": 16,
   "id": "91af0a97-3e87-4aab-b8bf-d25e494ab5e4",
   "metadata": {
    "tags": []
   },
   "outputs": [
    {
     "name": "stdout",
     "output_type": "stream",
     "text": [
      "<class 'pandas.core.frame.DataFrame'>\n",
      "RangeIndex: 6906 entries, 0 to 6905\n",
      "Data columns (total 14 columns):\n",
      " #   Column               Non-Null Count  Dtype  \n",
      "---  ------               --------------  -----  \n",
      " 0   name                 6906 non-null   object \n",
      " 1   year                 6906 non-null   int64  \n",
      " 2   selling_price        6906 non-null   int64  \n",
      " 3   km_driven            6906 non-null   int64  \n",
      " 4   fuel                 6906 non-null   object \n",
      " 5   seller_type          6906 non-null   object \n",
      " 6   transmission         6906 non-null   object \n",
      " 7   owner                6906 non-null   object \n",
      " 8   mileage(km/ltr/kg)   6906 non-null   float64\n",
      " 9   engine               6906 non-null   float64\n",
      " 10  max_power            6906 non-null   float64\n",
      " 11  seats                6906 non-null   float64\n",
      " 12  Cars_Age             6906 non-null   int64  \n",
      " 13  price_per_kilometer  6906 non-null   float64\n",
      "dtypes: float64(5), int64(4), object(5)\n",
      "memory usage: 755.5+ KB\n"
     ]
    }
   ],
   "source": [
    "df.info()"
   ]
  },
  {
   "cell_type": "code",
   "execution_count": 17,
   "id": "a22505e7-98bc-4724-92e0-1391ddf258e2",
   "metadata": {
    "tags": []
   },
   "outputs": [
    {
     "name": "stdout",
     "output_type": "stream",
     "text": [
      "year\n",
      "2018    825749.553897\n",
      "2019    795583.291667\n",
      "2020    786548.338710\n",
      "2017    708006.173913\n",
      "2016    653180.339105\n",
      "Name: selling_price, dtype: float64\n"
     ]
    }
   ],
   "source": [
    "# avg selling price for each year of manufacture\n",
    "avg_sp_per_year = df.groupby(\"year\")[\"selling_price\"].mean().sort_values(ascending=False)\n",
    "print(avg_sp_per_year.head())"
   ]
  },
  {
   "cell_type": "code",
   "execution_count": 18,
   "id": "20009918-23df-47a3-8c57-20b08d653e0e",
   "metadata": {
    "tags": []
   },
   "outputs": [
    {
     "data": {
      "image/png": "[encoded data removed]",
      "text/plain": [
       "<Figure size 640x480 with 1 Axes>"
      ]
     },
     "metadata": {},
     "output_type": "display_data"
    }
   ],
   "source": [
    "# plot line chart of selling price over the years\n",
    "plt.plot(df.groupby(\"year\")[\"selling_price\"].mean())\n",
    "\n",
    "# add titles and axis labels\n",
    "plt.xlabel(\"Year\")\n",
    "plt.ylabel(\"Selling Price [$]\")\n",
    "plt.title(\"Average Selling Price Over Years\")\n",
    "\n",
    "plt.show()"
   ]
  },
  {
   "cell_type": "code",
   "execution_count": 19,
   "id": "4ee3fd1c-7eb1-4ba5-a2ab-538fad853a1b",
   "metadata": {
    "tags": []
   },
   "outputs": [
    {
     "data": {
      "text/plain": [
       "fuel\n",
       "Diesel    520000.0\n",
       "CNG       320000.0\n",
       "Petrol    310000.0\n",
       "LPG       195500.0\n",
       "Name: selling_price, dtype: float64"
      ]
     },
     "execution_count": 19,
     "metadata": {},
     "output_type": "execute_result"
    }
   ],
   "source": [
    "df.groupby(\"fuel\")[\"selling_price\"].median().sort_values(ascending=False)"
   ]
  },
  {
   "cell_type": "code",
   "execution_count": 20,
   "id": "fb094588-ea04-4645-a050-db3064a31e6b",
   "metadata": {
    "tags": []
   },
   "outputs": [
    {
     "data": {
      "text/plain": [
       "fuel\n",
       "Diesel    620448.482224\n",
       "Petrol    363717.339629\n",
       "CNG       300499.946429\n",
       "LPG       200421.052632\n",
       "Name: selling_price, dtype: float64"
      ]
     },
     "execution_count": 20,
     "metadata": {},
     "output_type": "execute_result"
    }
   ],
   "source": [
    "df.groupby(\"fuel\")[\"selling_price\"].mean().sort_values(ascending=False)"
   ]
  },
  {
   "cell_type": "code",
   "execution_count": 21,
   "id": "1d3a4bb9-b06e-497f-9b5a-bb420d3832e0",
   "metadata": {
    "tags": []
   },
   "outputs": [
    {
     "data": {
      "text/html": [
       "<div>\n",
       "<style scoped>\n",
       "    .dataframe tbody tr th:only-of-type {\n",
       "        vertical-align: middle;\n",
       "    }\n",
       "\n",
       "    .dataframe tbody tr th {\n",
       "        vertical-align: top;\n",
       "    }\n",
       "\n",
       "    .dataframe thead th {\n",
       "        text-align: right;\n",
       "    }\n",
       "</style>\n",
       "<table border=\"1\" class=\"dataframe\">\n",
       "  <thead>\n",
       "    <tr style=\"text-align: right;\">\n",
       "      <th></th>\n",
       "      <th>name</th>\n",
       "      <th>year</th>\n",
       "      <th>selling_price</th>\n",
       "      <th>km_driven</th>\n",
       "      <th>fuel</th>\n",
       "      <th>seller_type</th>\n",
       "      <th>transmission</th>\n",
       "      <th>owner</th>\n",
       "      <th>mileage(km/ltr/kg)</th>\n",
       "      <th>engine</th>\n",
       "      <th>max_power</th>\n",
       "      <th>seats</th>\n",
       "      <th>Cars_Age</th>\n",
       "      <th>price_per_kilometer</th>\n",
       "    </tr>\n",
       "  </thead>\n",
       "  <tbody>\n",
       "    <tr>\n",
       "      <th>4961</th>\n",
       "      <td>Maruti Ertiga VXI CNG Limited Edition</td>\n",
       "      <td>2014</td>\n",
       "      <td>545000</td>\n",
       "      <td>35000</td>\n",
       "      <td>CNG</td>\n",
       "      <td>Individual</td>\n",
       "      <td>Manual</td>\n",
       "      <td>First Owner</td>\n",
       "      <td>22.8</td>\n",
       "      <td>1373.0</td>\n",
       "      <td>80.90</td>\n",
       "      <td>7.0</td>\n",
       "      <td>11</td>\n",
       "      <td>23903.508772</td>\n",
       "    </tr>\n",
       "    <tr>\n",
       "      <th>283</th>\n",
       "      <td>Mercedes-Benz GL-Class 220d 4MATIC Sport</td>\n",
       "      <td>2018</td>\n",
       "      <td>4600000</td>\n",
       "      <td>7976</td>\n",
       "      <td>Diesel</td>\n",
       "      <td>Individual</td>\n",
       "      <td>Automatic</td>\n",
       "      <td>First Owner</td>\n",
       "      <td>17.9</td>\n",
       "      <td>2143.0</td>\n",
       "      <td>170.00</td>\n",
       "      <td>5.0</td>\n",
       "      <td>7</td>\n",
       "      <td>256983.240223</td>\n",
       "    </tr>\n",
       "    <tr>\n",
       "      <th>2783</th>\n",
       "      <td>Hyundai i10 Sportz 1.1L LPG</td>\n",
       "      <td>2015</td>\n",
       "      <td>375000</td>\n",
       "      <td>60000</td>\n",
       "      <td>LPG</td>\n",
       "      <td>Individual</td>\n",
       "      <td>Manual</td>\n",
       "      <td>First Owner</td>\n",
       "      <td>19.2</td>\n",
       "      <td>1086.0</td>\n",
       "      <td>68.05</td>\n",
       "      <td>5.0</td>\n",
       "      <td>10</td>\n",
       "      <td>19531.250000</td>\n",
       "    </tr>\n",
       "    <tr>\n",
       "      <th>133</th>\n",
       "      <td>Jeep Wrangler 2016-2019 3.6 4X4</td>\n",
       "      <td>2017</td>\n",
       "      <td>4100000</td>\n",
       "      <td>17000</td>\n",
       "      <td>Petrol</td>\n",
       "      <td>Individual</td>\n",
       "      <td>Automatic</td>\n",
       "      <td>First Owner</td>\n",
       "      <td>9.5</td>\n",
       "      <td>3604.0</td>\n",
       "      <td>280.00</td>\n",
       "      <td>5.0</td>\n",
       "      <td>8</td>\n",
       "      <td>431578.947368</td>\n",
       "    </tr>\n",
       "  </tbody>\n",
       "</table>\n",
       "</div>"
      ],
      "text/plain": [
       "                                          name  year  selling_price  \\\n",
       "4961     Maruti Ertiga VXI CNG Limited Edition  2014         545000   \n",
       "283   Mercedes-Benz GL-Class 220d 4MATIC Sport  2018        4600000   \n",
       "2783               Hyundai i10 Sportz 1.1L LPG  2015         375000   \n",
       "133            Jeep Wrangler 2016-2019 3.6 4X4  2017        4100000   \n",
       "\n",
       "      km_driven    fuel seller_type transmission        owner  \\\n",
       "4961      35000     CNG  Individual       Manual  First Owner   \n",
       "283        7976  Diesel  Individual    Automatic  First Owner   \n",
       "2783      60000     LPG  Individual       Manual  First Owner   \n",
       "133       17000  Petrol  Individual    Automatic  First Owner   \n",
       "\n",
       "      mileage(km/ltr/kg)  engine  max_power  seats  Cars_Age  \\\n",
       "4961                22.8  1373.0      80.90    7.0        11   \n",
       "283                 17.9  2143.0     170.00    5.0         7   \n",
       "2783                19.2  1086.0      68.05    5.0        10   \n",
       "133                  9.5  3604.0     280.00    5.0         8   \n",
       "\n",
       "      price_per_kilometer  \n",
       "4961         23903.508772  \n",
       "283         256983.240223  \n",
       "2783         19531.250000  \n",
       "133         431578.947368  "
      ]
     },
     "execution_count": 21,
     "metadata": {},
     "output_type": "execute_result"
    }
   ],
   "source": [
    "# find the most expensive car per fuel type\n",
    "most_expensive_per_fuel = df.groupby(\"fuel\")[\"selling_price\"].idxmax()\n",
    "\n",
    "# view the full car details\n",
    "df.loc[most_expensive_per_fuel]"
   ]
  },
  {
   "cell_type": "code",
   "execution_count": 32,
   "id": "b81bf9f3-68fa-4865-ba58-b408a77bb2cb",
   "metadata": {
    "tags": []
   },
   "outputs": [
    {
     "data": {
      "text/plain": [
       "0     Maruti\n",
       "1      Skoda\n",
       "2      Honda\n",
       "3    Hyundai\n",
       "4     Maruti\n",
       "Name: brand, dtype: object"
      ]
     },
     "execution_count": 32,
     "metadata": {},
     "output_type": "execute_result"
    }
   ],
   "source": [
    "# extract brand from under 'name' column\n",
    "df[\"brand\"] = df[\"name\"].str.split().str[0]\n",
    "\n",
    "df[\"brand\"].head()"
   ]
  },
  {
   "cell_type": "code",
   "execution_count": 36,
   "id": "975e90a5-283f-48a3-a894-b12b37d08e49",
   "metadata": {},
   "outputs": [
    {
     "data": {
      "text/plain": [
       "brand\n",
       "Maruti        2165\n",
       "Hyundai       1267\n",
       "Mahindra       723\n",
       "Tata           647\n",
       "Honda          362\n",
       "Ford           361\n",
       "Toyota         357\n",
       "Chevrolet      216\n",
       "Renault        206\n",
       "Volkswagen     174\n",
       "Name: count, dtype: int64"
      ]
     },
     "execution_count": 36,
     "metadata": {},
     "output_type": "execute_result"
    }
   ],
   "source": [
    "# count frequency for each brand\n",
    "brand_counts = df[\"brand\"].value_counts()\n",
    "brand_counts.head(10)"
   ]
  },
  {
   "cell_type": "code",
   "execution_count": 63,
   "id": "b5a5c099-e573-42ef-9b75-a8b9b2a3c0e0",
   "metadata": {
    "tags": []
   },
   "outputs": [
    {
     "data": {
      "text/html": [
       "<div>\n",
       "<style scoped>\n",
       "    .dataframe tbody tr th:only-of-type {\n",
       "        vertical-align: middle;\n",
       "    }\n",
       "\n",
       "    .dataframe tbody tr th {\n",
       "        vertical-align: top;\n",
       "    }\n",
       "\n",
       "    .dataframe thead th {\n",
       "        text-align: right;\n",
       "    }\n",
       "</style>\n",
       "<table border=\"1\" class=\"dataframe\">\n",
       "  <thead>\n",
       "    <tr style=\"text-align: right;\">\n",
       "      <th></th>\n",
       "      <th></th>\n",
       "      <th>best_combinations</th>\n",
       "    </tr>\n",
       "    <tr>\n",
       "      <th>fuel</th>\n",
       "      <th>transmission</th>\n",
       "      <th></th>\n",
       "    </tr>\n",
       "  </thead>\n",
       "  <tbody>\n",
       "    <tr>\n",
       "      <th>Diesel</th>\n",
       "      <th>Manual</th>\n",
       "      <td>3457</td>\n",
       "    </tr>\n",
       "    <tr>\n",
       "      <th>Petrol</th>\n",
       "      <th>Manual</th>\n",
       "      <td>2791</td>\n",
       "    </tr>\n",
       "    <tr>\n",
       "      <th>Diesel</th>\n",
       "      <th>Automatic</th>\n",
       "      <td>284</td>\n",
       "    </tr>\n",
       "    <tr>\n",
       "      <th>Petrol</th>\n",
       "      <th>Automatic</th>\n",
       "      <td>280</td>\n",
       "    </tr>\n",
       "    <tr>\n",
       "      <th>CNG</th>\n",
       "      <th>Manual</th>\n",
       "      <td>56</td>\n",
       "    </tr>\n",
       "    <tr>\n",
       "      <th>LPG</th>\n",
       "      <th>Manual</th>\n",
       "      <td>38</td>\n",
       "    </tr>\n",
       "  </tbody>\n",
       "</table>\n",
       "</div>"
      ],
      "text/plain": [
       "                     best_combinations\n",
       "fuel   transmission                   \n",
       "Diesel Manual                     3457\n",
       "Petrol Manual                     2791\n",
       "Diesel Automatic                   284\n",
       "Petrol Automatic                   280\n",
       "CNG    Manual                       56\n",
       "LPG    Manual                       38"
      ]
     },
     "execution_count": 63,
     "metadata": {},
     "output_type": "execute_result"
    }
   ],
   "source": [
    "# common combinations of fuel type and transmission\n",
    "group = (\n",
    "    df.groupby([\"fuel\", \"transmission\"])\n",
    "    .agg(best_combinations=('fuel', 'count'))\n",
    "    .sort_values(by=\"best_combinations\", ascending=False)\n",
    "    \n",
    ")\n",
    "group    "
   ]
  },
  {
   "cell_type": "code",
   "execution_count": null,
   "id": "d781624d-f7f3-4bbf-9cea-a315f78bfd56",
   "metadata": {},
   "outputs": [],
   "source": []
  }
 ],
 "metadata": {
  "kernelspec": {
   "display_name": "Python 3 (ipykernel)",
   "language": "python",
   "name": "python3"
  },
  "language_info": {
   "codemirror_mode": {
    "name": "ipython",
    "version": 3
   },
   "file_extension": ".py",
   "mimetype": "text/x-python",
   "name": "python",
   "nbconvert_exporter": "python",
   "pygments_lexer": "ipython3",
   "version": "3.11.5"
  }
 },
 "nbformat": 4,
 "nbformat_minor": 5
}
