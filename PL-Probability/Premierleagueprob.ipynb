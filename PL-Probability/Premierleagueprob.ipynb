{
 "cells": [
  {
   "cell_type": "code",
   "execution_count": 3,
   "id": "5d70869a-9d5f-448f-afd4-860a8014a40a",
   "metadata": {
    "tags": []
   },
   "outputs": [],
   "source": [
    "from dotenv import load_dotenv, dotenv_values\n",
    "import os"
   ]
  },
  {
   "cell_type": "code",
   "execution_count": null,
   "id": "50a72a3b-ea80-458a-98c7-b7f433cd5053",
   "metadata": {
    "tags": []
   },
   "outputs": [],
   "source": [
    "print(os.getcwd())"
   ]
  },
  {
   "cell_type": "code",
   "execution_count": 5,
   "id": "1130285a-0e89-4e0e-a211-6e9dacc17bd9",
   "metadata": {
    "tags": []
   },
   "outputs": [],
   "source": [
    "os.chdir(r'C:\\Users\\Admin\\OneDrive\\Documents\\Data Portfolio Projects\\Excel Projects\\Lux Academy\\football')"
   ]
  },
  {
   "cell_type": "code",
   "execution_count": null,
   "id": "8ce1f7ba-b523-412d-a885-56ca35565bac",
   "metadata": {
    "tags": []
   },
   "outputs": [],
   "source": [
    "f\"Confirm Curent directory {os.getcwd()}\""
   ]
  },
  {
   "cell_type": "code",
   "execution_count": 7,
   "id": "c772e8cf-222a-4d01-aa97-06d25c5cddef",
   "metadata": {
    "tags": []
   },
   "outputs": [],
   "source": [
    "files = os.listdir(r'C:\\Users\\Admin\\OneDrive\\Documents\\Data Portfolio Projects\\Excel Projects\\Lux Academy\\football')"
   ]
  },
  {
   "cell_type": "code",
   "execution_count": 9,
   "id": "66c2e9e2-14f1-46bd-980b-46cb963c7f59",
   "metadata": {
    "tags": []
   },
   "outputs": [
    {
     "data": {
      "text/plain": [
       "True"
      ]
     },
     "execution_count": 9,
     "metadata": {},
     "output_type": "execute_result"
    }
   ],
   "source": [
    "load_dotenv()"
   ]
  },
  {
   "cell_type": "code",
   "execution_count": null,
   "id": "d76e13ea-778d-43fb-bd06-25aac87ab874",
   "metadata": {
    "tags": []
   },
   "outputs": [],
   "source": [
    "with open('.env', 'r') as f:\n",
    "    content = f.read()\n",
    "    print(content)"
   ]
  },
  {
   "cell_type": "code",
   "execution_count": null,
   "id": "38399482-44f2-42f0-8e26-4a80fda07aee",
   "metadata": {
    "tags": []
   },
   "outputs": [],
   "source": [
    "load_dotenv()"
   ]
  },
  {
   "cell_type": "code",
   "execution_count": 16,
   "id": "4e3d2a79-6e8e-4d82-a01e-137d9a2368fc",
   "metadata": {
    "tags": []
   },
   "outputs": [
    {
     "name": "stdout",
     "output_type": "stream",
     "text": [
      "Total Matches: 380\n",
      "FINISHED - Manchester United FC vs. Fulham FC - Score:{'home': 1, 'away': 0}\n",
      "FINISHED - Ipswich Town FC vs. Liverpool FC - Score:{'home': 0, 'away': 2}\n",
      "FINISHED - Arsenal FC vs. Wolverhampton Wanderers FC - Score:{'home': 2, 'away': 0}\n",
      "FINISHED - Everton FC vs. Brighton & Hove Albion FC - Score:{'home': 0, 'away': 3}\n",
      "FINISHED - Newcastle United FC vs. Southampton FC - Score:{'home': 1, 'away': 0}\n"
     ]
    }
   ],
   "source": [
    "import requests\n",
    "# Define the API endpoint\n",
    "url = \"https://api.football-data.org/v4/competitions/PL/matches?season=2024\"  # Replace with the actual API endpoint\n",
    "# Set up the headers, including the API key\n",
    "headers = { 'X-Auth-Token': 'f7213fabb0d84d3591bd701150716545' }\n",
    "\n",
    "# Make the GET request\n",
    "response = requests.get(url, headers=headers)\n",
    "# Check if the request was successful\n",
    "if response.status_code == 200:\n",
    "    matches = response.json().get('matches', [])\n",
    "    print(f\"Total Matches: {len(matches)}\")\n",
    "    \n",
    "    for index, match in enumerate(matches):\n",
    "        if index >=5:\n",
    "            break\n",
    "        print(f\"{match['status']} - {match['homeTeam']['name']} vs. {match['awayTeam']['name']} - Score:{match['score']['fullTime']}\")\n",
    "    # Parse the JSON response\n",
    "    # data = response.json()\n",
    "    # print(data)  # Print the data received from the API\n",
    "else:\n",
    "    print(f\"Error: {response.status_code} - {response.text}\")"
   ]
  },
  {
   "cell_type": "code",
   "execution_count": 17,
   "id": "48bf4cf9-eb15-4f89-8fe0-e158a0fd598c",
   "metadata": {},
   "outputs": [
    {
     "data": {
      "text/html": [
       "<div>\n",
       "<style scoped>\n",
       "    .dataframe tbody tr th:only-of-type {\n",
       "        vertical-align: middle;\n",
       "    }\n",
       "\n",
       "    .dataframe tbody tr th {\n",
       "        vertical-align: top;\n",
       "    }\n",
       "\n",
       "    .dataframe thead th {\n",
       "        text-align: right;\n",
       "    }\n",
       "</style>\n",
       "<table border=\"1\" class=\"dataframe\">\n",
       "  <thead>\n",
       "    <tr style=\"text-align: right;\">\n",
       "      <th></th>\n",
       "      <th>status</th>\n",
       "      <th>Hometeam</th>\n",
       "      <th>Awayteam</th>\n",
       "      <th>Homescore</th>\n",
       "      <th>Awayscore</th>\n",
       "    </tr>\n",
       "  </thead>\n",
       "  <tbody>\n",
       "    <tr>\n",
       "      <th>0</th>\n",
       "      <td>FINISHED</td>\n",
       "      <td>Manchester United FC</td>\n",
       "      <td>Fulham FC</td>\n",
       "      <td>1</td>\n",
       "      <td>0</td>\n",
       "    </tr>\n",
       "    <tr>\n",
       "      <th>1</th>\n",
       "      <td>FINISHED</td>\n",
       "      <td>Ipswich Town FC</td>\n",
       "      <td>Liverpool FC</td>\n",
       "      <td>0</td>\n",
       "      <td>2</td>\n",
       "    </tr>\n",
       "    <tr>\n",
       "      <th>2</th>\n",
       "      <td>FINISHED</td>\n",
       "      <td>Arsenal FC</td>\n",
       "      <td>Wolverhampton Wanderers FC</td>\n",
       "      <td>2</td>\n",
       "      <td>0</td>\n",
       "    </tr>\n",
       "    <tr>\n",
       "      <th>3</th>\n",
       "      <td>FINISHED</td>\n",
       "      <td>Everton FC</td>\n",
       "      <td>Brighton &amp; Hove Albion FC</td>\n",
       "      <td>0</td>\n",
       "      <td>3</td>\n",
       "    </tr>\n",
       "    <tr>\n",
       "      <th>4</th>\n",
       "      <td>FINISHED</td>\n",
       "      <td>Newcastle United FC</td>\n",
       "      <td>Southampton FC</td>\n",
       "      <td>1</td>\n",
       "      <td>0</td>\n",
       "    </tr>\n",
       "  </tbody>\n",
       "</table>\n",
       "</div>"
      ],
      "text/plain": [
       "     status              Hometeam                    Awayteam  Homescore  \\\n",
       "0  FINISHED  Manchester United FC                   Fulham FC          1   \n",
       "1  FINISHED       Ipswich Town FC                Liverpool FC          0   \n",
       "2  FINISHED            Arsenal FC  Wolverhampton Wanderers FC          2   \n",
       "3  FINISHED            Everton FC   Brighton & Hove Albion FC          0   \n",
       "4  FINISHED   Newcastle United FC              Southampton FC          1   \n",
       "\n",
       "   Awayscore  \n",
       "0          0  \n",
       "1          2  \n",
       "2          0  \n",
       "3          3  \n",
       "4          0  "
      ]
     },
     "execution_count": 17,
     "metadata": {},
     "output_type": "execute_result"
    }
   ],
   "source": [
    "import pandas as pd\n",
    "\n",
    "match_data = []\n",
    "\n",
    "for match in matches:\n",
    "    match_data.append({\n",
    "        'status': match['status'],\n",
    "        'Hometeam' : match['homeTeam']['name'],\n",
    "        'Awayteam': match['awayTeam']['name'],\n",
    "        'Homescore': match['score']['fullTime']['home'],\n",
    "        'Awayscore': match['score']['fullTime']['away']\n",
    "    })\n",
    "    \n",
    "df = pd.DataFrame(match_data)\n",
    "df.head()"
   ]
  },
  {
   "cell_type": "code",
   "execution_count": 4,
   "id": "a4cd82a6-d386-4a4b-b0ee-585b41739fb9",
   "metadata": {
    "tags": []
   },
   "outputs": [
    {
     "data": {
      "text/plain": [
       "array(['Manchester United FC', 'Ipswich Town FC', 'Arsenal FC',\n",
       "       'Everton FC', 'Newcastle United FC', 'Nottingham Forest FC',\n",
       "       'West Ham United FC', 'Brentford FC', 'Chelsea FC',\n",
       "       'Leicester City FC', 'Brighton & Hove Albion FC',\n",
       "       'Crystal Palace FC', 'Fulham FC', 'Manchester City FC',\n",
       "       'Southampton FC', 'Tottenham Hotspur FC', 'Aston Villa FC',\n",
       "       'AFC Bournemouth', 'Wolverhampton Wanderers FC', 'Liverpool FC'],\n",
       "      dtype=object)"
      ]
     },
     "execution_count": 4,
     "metadata": {},
     "output_type": "execute_result"
    }
   ],
   "source": [
    "df[\"Hometeam\"].unique()"
   ]
  },
  {
   "cell_type": "code",
   "execution_count": 18,
   "id": "cf309ba8-94bd-4b6d-a2bc-5ced4ffe059b",
   "metadata": {},
   "outputs": [
    {
     "name": "stdout",
     "output_type": "stream",
     "text": [
      "<class 'pandas.core.frame.DataFrame'>\n",
      "RangeIndex: 380 entries, 0 to 379\n",
      "Data columns (total 5 columns):\n",
      " #   Column     Non-Null Count  Dtype \n",
      "---  ------     --------------  ----- \n",
      " 0   status     380 non-null    object\n",
      " 1   Hometeam   380 non-null    object\n",
      " 2   Awayteam   380 non-null    object\n",
      " 3   Homescore  380 non-null    int64 \n",
      " 4   Awayscore  380 non-null    int64 \n",
      "dtypes: int64(2), object(3)\n",
      "memory usage: 15.0+ KB\n"
     ]
    }
   ],
   "source": [
    "df.info()"
   ]
  },
  {
   "cell_type": "code",
   "execution_count": 19,
   "id": "109bec72-db79-49ac-bd8d-903b4309a093",
   "metadata": {
    "tags": []
   },
   "outputs": [],
   "source": [
    "# store all teams in a variable 'teams'\n",
    "teams = df['Hometeam'].unique()"
   ]
  },
  {
   "cell_type": "code",
   "execution_count": 30,
   "id": "49fae3ae-a835-4b93-86f6-5681426eefd5",
   "metadata": {
    "tags": []
   },
   "outputs": [
    {
     "data": {
      "text/html": [
       "<div>\n",
       "<style scoped>\n",
       "    .dataframe tbody tr th:only-of-type {\n",
       "        vertical-align: middle;\n",
       "    }\n",
       "\n",
       "    .dataframe tbody tr th {\n",
       "        vertical-align: top;\n",
       "    }\n",
       "\n",
       "    .dataframe thead th {\n",
       "        text-align: right;\n",
       "    }\n",
       "</style>\n",
       "<table border=\"1\" class=\"dataframe\">\n",
       "  <thead>\n",
       "    <tr style=\"text-align: right;\">\n",
       "      <th></th>\n",
       "      <th>Team</th>\n",
       "      <th>Win Probability</th>\n",
       "      <th>Total Games</th>\n",
       "    </tr>\n",
       "  </thead>\n",
       "  <tbody>\n",
       "    <tr>\n",
       "      <th>19</th>\n",
       "      <td>Liverpool FC</td>\n",
       "      <td>0.658</td>\n",
       "      <td>38</td>\n",
       "    </tr>\n",
       "    <tr>\n",
       "      <th>13</th>\n",
       "      <td>Manchester City FC</td>\n",
       "      <td>0.553</td>\n",
       "      <td>38</td>\n",
       "    </tr>\n",
       "    <tr>\n",
       "      <th>8</th>\n",
       "      <td>Chelsea FC</td>\n",
       "      <td>0.526</td>\n",
       "      <td>38</td>\n",
       "    </tr>\n",
       "    <tr>\n",
       "      <th>2</th>\n",
       "      <td>Arsenal FC</td>\n",
       "      <td>0.526</td>\n",
       "      <td>38</td>\n",
       "    </tr>\n",
       "    <tr>\n",
       "      <th>4</th>\n",
       "      <td>Newcastle United FC</td>\n",
       "      <td>0.526</td>\n",
       "      <td>38</td>\n",
       "    </tr>\n",
       "    <tr>\n",
       "      <th>16</th>\n",
       "      <td>Aston Villa FC</td>\n",
       "      <td>0.500</td>\n",
       "      <td>38</td>\n",
       "    </tr>\n",
       "    <tr>\n",
       "      <th>5</th>\n",
       "      <td>Nottingham Forest FC</td>\n",
       "      <td>0.500</td>\n",
       "      <td>38</td>\n",
       "    </tr>\n",
       "    <tr>\n",
       "      <th>10</th>\n",
       "      <td>Brighton &amp; Hove Albion FC</td>\n",
       "      <td>0.421</td>\n",
       "      <td>38</td>\n",
       "    </tr>\n",
       "    <tr>\n",
       "      <th>7</th>\n",
       "      <td>Brentford FC</td>\n",
       "      <td>0.421</td>\n",
       "      <td>38</td>\n",
       "    </tr>\n",
       "    <tr>\n",
       "      <th>12</th>\n",
       "      <td>Fulham FC</td>\n",
       "      <td>0.395</td>\n",
       "      <td>38</td>\n",
       "    </tr>\n",
       "    <tr>\n",
       "      <th>17</th>\n",
       "      <td>AFC Bournemouth</td>\n",
       "      <td>0.395</td>\n",
       "      <td>38</td>\n",
       "    </tr>\n",
       "    <tr>\n",
       "      <th>11</th>\n",
       "      <td>Crystal Palace FC</td>\n",
       "      <td>0.342</td>\n",
       "      <td>38</td>\n",
       "    </tr>\n",
       "    <tr>\n",
       "      <th>18</th>\n",
       "      <td>Wolverhampton Wanderers FC</td>\n",
       "      <td>0.316</td>\n",
       "      <td>38</td>\n",
       "    </tr>\n",
       "    <tr>\n",
       "      <th>6</th>\n",
       "      <td>West Ham United FC</td>\n",
       "      <td>0.289</td>\n",
       "      <td>38</td>\n",
       "    </tr>\n",
       "    <tr>\n",
       "      <th>15</th>\n",
       "      <td>Tottenham Hotspur FC</td>\n",
       "      <td>0.289</td>\n",
       "      <td>38</td>\n",
       "    </tr>\n",
       "    <tr>\n",
       "      <th>3</th>\n",
       "      <td>Everton FC</td>\n",
       "      <td>0.289</td>\n",
       "      <td>38</td>\n",
       "    </tr>\n",
       "    <tr>\n",
       "      <th>0</th>\n",
       "      <td>Manchester United FC</td>\n",
       "      <td>0.289</td>\n",
       "      <td>38</td>\n",
       "    </tr>\n",
       "    <tr>\n",
       "      <th>9</th>\n",
       "      <td>Leicester City FC</td>\n",
       "      <td>0.158</td>\n",
       "      <td>38</td>\n",
       "    </tr>\n",
       "    <tr>\n",
       "      <th>1</th>\n",
       "      <td>Ipswich Town FC</td>\n",
       "      <td>0.105</td>\n",
       "      <td>38</td>\n",
       "    </tr>\n",
       "    <tr>\n",
       "      <th>14</th>\n",
       "      <td>Southampton FC</td>\n",
       "      <td>0.053</td>\n",
       "      <td>38</td>\n",
       "    </tr>\n",
       "  </tbody>\n",
       "</table>\n",
       "</div>"
      ],
      "text/plain": [
       "                          Team  Win Probability  Total Games\n",
       "19                Liverpool FC            0.658           38\n",
       "13          Manchester City FC            0.553           38\n",
       "8                   Chelsea FC            0.526           38\n",
       "2                   Arsenal FC            0.526           38\n",
       "4          Newcastle United FC            0.526           38\n",
       "16              Aston Villa FC            0.500           38\n",
       "5         Nottingham Forest FC            0.500           38\n",
       "10   Brighton & Hove Albion FC            0.421           38\n",
       "7                 Brentford FC            0.421           38\n",
       "12                   Fulham FC            0.395           38\n",
       "17             AFC Bournemouth            0.395           38\n",
       "11           Crystal Palace FC            0.342           38\n",
       "18  Wolverhampton Wanderers FC            0.316           38\n",
       "6           West Ham United FC            0.289           38\n",
       "15        Tottenham Hotspur FC            0.289           38\n",
       "3                   Everton FC            0.289           38\n",
       "0         Manchester United FC            0.289           38\n",
       "9            Leicester City FC            0.158           38\n",
       "1              Ipswich Town FC            0.105           38\n",
       "14              Southampton FC            0.053           38"
      ]
     },
     "execution_count": 30,
     "metadata": {},
     "output_type": "execute_result"
    }
   ],
   "source": [
    "# have the solution stored in an empty dictionary \n",
    "probability = []\n",
    "\n",
    "#  For loop to calculate probability \n",
    "for team in teams:\n",
    "    total_games = len(df [(df['Hometeam'] == team) | (df['Awayteam'] == team)])\n",
    "    \n",
    "    # find home wins for each team where homescore > awayscore\n",
    "    home_win = df[(df['Hometeam'] == team) & (df['Homescore'] > df['Awayscore'])]\n",
    "    \n",
    "    # find away wins for each team where awayscore > homescore\n",
    "    away_win = df[(df['Awayteam'] == team) & (df['Awayscore'] > df['Homescore'])]\n",
    "    \n",
    "    # total wins\n",
    "    total_wins = len(home_win) + len(away_win)\n",
    "    \n",
    "    # ensure teams play atleast 1 game\n",
    "    if total_games > 0:\n",
    "        win_prob = round(total_wins/total_games, 3)\n",
    "        \n",
    "    # append data to dictionary\n",
    "    probability.append({\n",
    "        \"Team\" : team,\n",
    "        \"Win Probability\": win_prob,\n",
    "        \"Total Games\": total_games\n",
    "    })\n",
    "\n",
    "# create dataframe and sort\n",
    "df_win = pd.DataFrame(probability)\n",
    "df_win = df_win.sort_values(by = \"Win Probability\", ascending = False)\n",
    "\n",
    "df_win"
   ]
  },
  {
   "cell_type": "code",
   "execution_count": null,
   "id": "515cb016-419c-4b59-8c66-a2e62159da60",
   "metadata": {},
   "outputs": [],
   "source": []
  }
 ],
 "metadata": {
  "kernelspec": {
   "display_name": "Python 3 (ipykernel)",
   "language": "python",
   "name": "python3"
  },
  "language_info": {
   "codemirror_mode": {
    "name": "ipython",
    "version": 3
   },
   "file_extension": ".py",
   "mimetype": "text/x-python",
   "name": "python",
   "nbconvert_exporter": "python",
   "pygments_lexer": "ipython3",
   "version": "3.11.5"
  }
 },
 "nbformat": 4,
 "nbformat_minor": 5
}
